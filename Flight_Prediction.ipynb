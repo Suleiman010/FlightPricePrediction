{
  "cells": [
    {
      "cell_type": "markdown",
      "metadata": {
        "id": "HFsGaBnIHtfZ"
      },
      "source": [
        "# importing libaries "
      ]
    },
    {
      "cell_type": "code",
      "execution_count": 1,
      "metadata": {
        "id": "x5qNzRTb_7_R"
      },
      "outputs": [],
      "source": [
        "import numpy as np\n",
        "import pandas as pd\n",
        "import seaborn as sns\n",
        "import matplotlib.pyplot as plt"
      ]
    },
    {
      "cell_type": "markdown",
      "metadata": {},
      "source": [
        "# Reading data"
      ]
    },
    {
      "cell_type": "code",
      "execution_count": 2,
      "metadata": {
        "colab": {
          "base_uri": "https://localhost:8080/",
          "height": 399
        },
        "id": "vn9bo3g-A2YT",
        "outputId": "0c2290e8-7142-4834-fd41-4f394bdb3ecf"
      },
      "outputs": [
        {
          "data": {
            "text/html": [
              "<div>\n",
              "<style scoped>\n",
              "    .dataframe tbody tr th:only-of-type {\n",
              "        vertical-align: middle;\n",
              "    }\n",
              "\n",
              "    .dataframe tbody tr th {\n",
              "        vertical-align: top;\n",
              "    }\n",
              "\n",
              "    .dataframe thead th {\n",
              "        text-align: right;\n",
              "    }\n",
              "</style>\n",
              "<table border=\"1\" class=\"dataframe\">\n",
              "  <thead>\n",
              "    <tr style=\"text-align: right;\">\n",
              "      <th></th>\n",
              "      <th>date</th>\n",
              "      <th>airline</th>\n",
              "      <th>ch_code</th>\n",
              "      <th>num_code</th>\n",
              "      <th>dep_time</th>\n",
              "      <th>from</th>\n",
              "      <th>time_taken</th>\n",
              "      <th>stop</th>\n",
              "      <th>arr_time</th>\n",
              "      <th>to</th>\n",
              "      <th>price</th>\n",
              "    </tr>\n",
              "  </thead>\n",
              "  <tbody>\n",
              "    <tr>\n",
              "      <th>0</th>\n",
              "      <td>11-02-2022</td>\n",
              "      <td>Air India</td>\n",
              "      <td>AI</td>\n",
              "      <td>868</td>\n",
              "      <td>18:00</td>\n",
              "      <td>Delhi</td>\n",
              "      <td>02h 00m</td>\n",
              "      <td>non-stop</td>\n",
              "      <td>20:00</td>\n",
              "      <td>Mumbai</td>\n",
              "      <td>25,612</td>\n",
              "    </tr>\n",
              "    <tr>\n",
              "      <th>1</th>\n",
              "      <td>11-02-2022</td>\n",
              "      <td>Air India</td>\n",
              "      <td>AI</td>\n",
              "      <td>624</td>\n",
              "      <td>19:00</td>\n",
              "      <td>Delhi</td>\n",
              "      <td>02h 15m</td>\n",
              "      <td>non-stop</td>\n",
              "      <td>21:15</td>\n",
              "      <td>Mumbai</td>\n",
              "      <td>25,612</td>\n",
              "    </tr>\n",
              "    <tr>\n",
              "      <th>2</th>\n",
              "      <td>11-02-2022</td>\n",
              "      <td>Air India</td>\n",
              "      <td>AI</td>\n",
              "      <td>531</td>\n",
              "      <td>20:00</td>\n",
              "      <td>Delhi</td>\n",
              "      <td>24h 45m</td>\n",
              "      <td>1-stop\\n\\t\\t\\t\\t\\t\\t\\t\\t\\t\\t\\t\\t\\n\\t\\t\\t\\t\\t\\t...</td>\n",
              "      <td>20:45</td>\n",
              "      <td>Mumbai</td>\n",
              "      <td>42,220</td>\n",
              "    </tr>\n",
              "    <tr>\n",
              "      <th>3</th>\n",
              "      <td>11-02-2022</td>\n",
              "      <td>Air India</td>\n",
              "      <td>AI</td>\n",
              "      <td>839</td>\n",
              "      <td>21:25</td>\n",
              "      <td>Delhi</td>\n",
              "      <td>26h 30m</td>\n",
              "      <td>1-stop\\n\\t\\t\\t\\t\\t\\t\\t\\t\\t\\t\\t\\t\\n\\t\\t\\t\\t\\t\\t...</td>\n",
              "      <td>23:55</td>\n",
              "      <td>Mumbai</td>\n",
              "      <td>44,450</td>\n",
              "    </tr>\n",
              "    <tr>\n",
              "      <th>4</th>\n",
              "      <td>11-02-2022</td>\n",
              "      <td>Air India</td>\n",
              "      <td>AI</td>\n",
              "      <td>544</td>\n",
              "      <td>17:15</td>\n",
              "      <td>Delhi</td>\n",
              "      <td>06h 40m</td>\n",
              "      <td>1-stop\\n\\t\\t\\t\\t\\t\\t\\t\\t\\t\\t\\t\\t\\n\\t\\t\\t\\t\\t\\t...</td>\n",
              "      <td>23:55</td>\n",
              "      <td>Mumbai</td>\n",
              "      <td>46,690</td>\n",
              "    </tr>\n",
              "  </tbody>\n",
              "</table>\n",
              "</div>"
            ],
            "text/plain": [
              "         date    airline ch_code  num_code dep_time   from time_taken  \\\n",
              "0  11-02-2022  Air India      AI       868    18:00  Delhi    02h 00m   \n",
              "1  11-02-2022  Air India      AI       624    19:00  Delhi    02h 15m   \n",
              "2  11-02-2022  Air India      AI       531    20:00  Delhi    24h 45m   \n",
              "3  11-02-2022  Air India      AI       839    21:25  Delhi    26h 30m   \n",
              "4  11-02-2022  Air India      AI       544    17:15  Delhi    06h 40m   \n",
              "\n",
              "                                                stop arr_time      to   price  \n",
              "0                                          non-stop     20:00  Mumbai  25,612  \n",
              "1                                          non-stop     21:15  Mumbai  25,612  \n",
              "2  1-stop\\n\\t\\t\\t\\t\\t\\t\\t\\t\\t\\t\\t\\t\\n\\t\\t\\t\\t\\t\\t...    20:45  Mumbai  42,220  \n",
              "3  1-stop\\n\\t\\t\\t\\t\\t\\t\\t\\t\\t\\t\\t\\t\\n\\t\\t\\t\\t\\t\\t...    23:55  Mumbai  44,450  \n",
              "4  1-stop\\n\\t\\t\\t\\t\\t\\t\\t\\t\\t\\t\\t\\t\\n\\t\\t\\t\\t\\t\\t...    23:55  Mumbai  46,690  "
            ]
          },
          "execution_count": 2,
          "metadata": {},
          "output_type": "execute_result"
        }
      ],
      "source": [
        "df_bu = pd.read_csv('business.csv')\n",
        "df_bu.head()"
      ]
    },
    {
      "cell_type": "code",
      "execution_count": 3,
      "metadata": {
        "colab": {
          "base_uri": "https://localhost:8080/"
        },
        "id": "Yj0mi-VEA3Hw",
        "outputId": "77aa2249-864a-41ba-a94e-f46205b55543"
      },
      "outputs": [
        {
          "data": {
            "text/plain": [
              "(93487, 11)"
            ]
          },
          "execution_count": 3,
          "metadata": {},
          "output_type": "execute_result"
        }
      ],
      "source": [
        "df_bu.shape"
      ]
    },
    {
      "cell_type": "code",
      "execution_count": 4,
      "metadata": {
        "colab": {
          "base_uri": "https://localhost:8080/"
        },
        "id": "RATy95YyEW54",
        "outputId": "738ec0e6-3a2e-4f1b-b550-ae768e084e07"
      },
      "outputs": [
        {
          "data": {
            "text/plain": [
              "Index(['date', 'airline', 'ch_code', 'num_code', 'dep_time', 'from',\n",
              "       'time_taken', 'stop', 'arr_time', 'to', 'price'],\n",
              "      dtype='object')"
            ]
          },
          "execution_count": 4,
          "metadata": {},
          "output_type": "execute_result"
        }
      ],
      "source": [
        "df_bu.columns # Attributes"
      ]
    },
    {
      "cell_type": "markdown",
      "metadata": {},
      "source": [
        "#### Adding a classifier based on the class of the flight (Feature Eng)"
      ]
    },
    {
      "cell_type": "code",
      "execution_count": 5,
      "metadata": {
        "colab": {
          "base_uri": "https://localhost:8080/",
          "height": 399
        },
        "id": "nGJFTd-pEgy4",
        "outputId": "ac09bc73-c964-4336-9415-760710bf681b"
      },
      "outputs": [
        {
          "data": {
            "text/html": [
              "<div>\n",
              "<style scoped>\n",
              "    .dataframe tbody tr th:only-of-type {\n",
              "        vertical-align: middle;\n",
              "    }\n",
              "\n",
              "    .dataframe tbody tr th {\n",
              "        vertical-align: top;\n",
              "    }\n",
              "\n",
              "    .dataframe thead th {\n",
              "        text-align: right;\n",
              "    }\n",
              "</style>\n",
              "<table border=\"1\" class=\"dataframe\">\n",
              "  <thead>\n",
              "    <tr style=\"text-align: right;\">\n",
              "      <th></th>\n",
              "      <th>date</th>\n",
              "      <th>airline</th>\n",
              "      <th>ch_code</th>\n",
              "      <th>num_code</th>\n",
              "      <th>dep_time</th>\n",
              "      <th>from</th>\n",
              "      <th>time_taken</th>\n",
              "      <th>stop</th>\n",
              "      <th>arr_time</th>\n",
              "      <th>to</th>\n",
              "      <th>price</th>\n",
              "      <th>class</th>\n",
              "    </tr>\n",
              "  </thead>\n",
              "  <tbody>\n",
              "    <tr>\n",
              "      <th>0</th>\n",
              "      <td>11-02-2022</td>\n",
              "      <td>Air India</td>\n",
              "      <td>AI</td>\n",
              "      <td>868</td>\n",
              "      <td>18:00</td>\n",
              "      <td>Delhi</td>\n",
              "      <td>02h 00m</td>\n",
              "      <td>non-stop</td>\n",
              "      <td>20:00</td>\n",
              "      <td>Mumbai</td>\n",
              "      <td>25,612</td>\n",
              "      <td>business</td>\n",
              "    </tr>\n",
              "    <tr>\n",
              "      <th>1</th>\n",
              "      <td>11-02-2022</td>\n",
              "      <td>Air India</td>\n",
              "      <td>AI</td>\n",
              "      <td>624</td>\n",
              "      <td>19:00</td>\n",
              "      <td>Delhi</td>\n",
              "      <td>02h 15m</td>\n",
              "      <td>non-stop</td>\n",
              "      <td>21:15</td>\n",
              "      <td>Mumbai</td>\n",
              "      <td>25,612</td>\n",
              "      <td>business</td>\n",
              "    </tr>\n",
              "    <tr>\n",
              "      <th>2</th>\n",
              "      <td>11-02-2022</td>\n",
              "      <td>Air India</td>\n",
              "      <td>AI</td>\n",
              "      <td>531</td>\n",
              "      <td>20:00</td>\n",
              "      <td>Delhi</td>\n",
              "      <td>24h 45m</td>\n",
              "      <td>1-stop\\n\\t\\t\\t\\t\\t\\t\\t\\t\\t\\t\\t\\t\\n\\t\\t\\t\\t\\t\\t...</td>\n",
              "      <td>20:45</td>\n",
              "      <td>Mumbai</td>\n",
              "      <td>42,220</td>\n",
              "      <td>business</td>\n",
              "    </tr>\n",
              "    <tr>\n",
              "      <th>3</th>\n",
              "      <td>11-02-2022</td>\n",
              "      <td>Air India</td>\n",
              "      <td>AI</td>\n",
              "      <td>839</td>\n",
              "      <td>21:25</td>\n",
              "      <td>Delhi</td>\n",
              "      <td>26h 30m</td>\n",
              "      <td>1-stop\\n\\t\\t\\t\\t\\t\\t\\t\\t\\t\\t\\t\\t\\n\\t\\t\\t\\t\\t\\t...</td>\n",
              "      <td>23:55</td>\n",
              "      <td>Mumbai</td>\n",
              "      <td>44,450</td>\n",
              "      <td>business</td>\n",
              "    </tr>\n",
              "    <tr>\n",
              "      <th>4</th>\n",
              "      <td>11-02-2022</td>\n",
              "      <td>Air India</td>\n",
              "      <td>AI</td>\n",
              "      <td>544</td>\n",
              "      <td>17:15</td>\n",
              "      <td>Delhi</td>\n",
              "      <td>06h 40m</td>\n",
              "      <td>1-stop\\n\\t\\t\\t\\t\\t\\t\\t\\t\\t\\t\\t\\t\\n\\t\\t\\t\\t\\t\\t...</td>\n",
              "      <td>23:55</td>\n",
              "      <td>Mumbai</td>\n",
              "      <td>46,690</td>\n",
              "      <td>business</td>\n",
              "    </tr>\n",
              "  </tbody>\n",
              "</table>\n",
              "</div>"
            ],
            "text/plain": [
              "         date    airline ch_code  num_code dep_time   from time_taken  \\\n",
              "0  11-02-2022  Air India      AI       868    18:00  Delhi    02h 00m   \n",
              "1  11-02-2022  Air India      AI       624    19:00  Delhi    02h 15m   \n",
              "2  11-02-2022  Air India      AI       531    20:00  Delhi    24h 45m   \n",
              "3  11-02-2022  Air India      AI       839    21:25  Delhi    26h 30m   \n",
              "4  11-02-2022  Air India      AI       544    17:15  Delhi    06h 40m   \n",
              "\n",
              "                                                stop arr_time      to   price  \\\n",
              "0                                          non-stop     20:00  Mumbai  25,612   \n",
              "1                                          non-stop     21:15  Mumbai  25,612   \n",
              "2  1-stop\\n\\t\\t\\t\\t\\t\\t\\t\\t\\t\\t\\t\\t\\n\\t\\t\\t\\t\\t\\t...    20:45  Mumbai  42,220   \n",
              "3  1-stop\\n\\t\\t\\t\\t\\t\\t\\t\\t\\t\\t\\t\\t\\n\\t\\t\\t\\t\\t\\t...    23:55  Mumbai  44,450   \n",
              "4  1-stop\\n\\t\\t\\t\\t\\t\\t\\t\\t\\t\\t\\t\\t\\n\\t\\t\\t\\t\\t\\t...    23:55  Mumbai  46,690   \n",
              "\n",
              "      class  \n",
              "0  business  \n",
              "1  business  \n",
              "2  business  \n",
              "3  business  \n",
              "4  business  "
            ]
          },
          "execution_count": 5,
          "metadata": {},
          "output_type": "execute_result"
        }
      ],
      "source": [
        "df_bu['class'] = 'business'\n",
        "df_bu.head()"
      ]
    },
    {
      "cell_type": "markdown",
      "metadata": {},
      "source": [
        "##### Reading data"
      ]
    },
    {
      "cell_type": "code",
      "execution_count": 6,
      "metadata": {
        "colab": {
          "base_uri": "https://localhost:8080/",
          "height": 293
        },
        "id": "OOIHGMw-EsOe",
        "outputId": "b2ef7366-0303-4b24-e5ad-23717231737e"
      },
      "outputs": [
        {
          "data": {
            "text/html": [
              "<div>\n",
              "<style scoped>\n",
              "    .dataframe tbody tr th:only-of-type {\n",
              "        vertical-align: middle;\n",
              "    }\n",
              "\n",
              "    .dataframe tbody tr th {\n",
              "        vertical-align: top;\n",
              "    }\n",
              "\n",
              "    .dataframe thead th {\n",
              "        text-align: right;\n",
              "    }\n",
              "</style>\n",
              "<table border=\"1\" class=\"dataframe\">\n",
              "  <thead>\n",
              "    <tr style=\"text-align: right;\">\n",
              "      <th></th>\n",
              "      <th>date</th>\n",
              "      <th>airline</th>\n",
              "      <th>ch_code</th>\n",
              "      <th>num_code</th>\n",
              "      <th>dep_time</th>\n",
              "      <th>from</th>\n",
              "      <th>time_taken</th>\n",
              "      <th>stop</th>\n",
              "      <th>arr_time</th>\n",
              "      <th>to</th>\n",
              "      <th>price</th>\n",
              "    </tr>\n",
              "  </thead>\n",
              "  <tbody>\n",
              "    <tr>\n",
              "      <th>0</th>\n",
              "      <td>11-02-2022</td>\n",
              "      <td>SpiceJet</td>\n",
              "      <td>SG</td>\n",
              "      <td>8709</td>\n",
              "      <td>18:55</td>\n",
              "      <td>Delhi</td>\n",
              "      <td>02h 10m</td>\n",
              "      <td>non-stop</td>\n",
              "      <td>21:05</td>\n",
              "      <td>Mumbai</td>\n",
              "      <td>5,953</td>\n",
              "    </tr>\n",
              "    <tr>\n",
              "      <th>1</th>\n",
              "      <td>11-02-2022</td>\n",
              "      <td>SpiceJet</td>\n",
              "      <td>SG</td>\n",
              "      <td>8157</td>\n",
              "      <td>06:20</td>\n",
              "      <td>Delhi</td>\n",
              "      <td>02h 20m</td>\n",
              "      <td>non-stop</td>\n",
              "      <td>08:40</td>\n",
              "      <td>Mumbai</td>\n",
              "      <td>5,953</td>\n",
              "    </tr>\n",
              "    <tr>\n",
              "      <th>2</th>\n",
              "      <td>11-02-2022</td>\n",
              "      <td>AirAsia</td>\n",
              "      <td>I5</td>\n",
              "      <td>764</td>\n",
              "      <td>04:25</td>\n",
              "      <td>Delhi</td>\n",
              "      <td>02h 10m</td>\n",
              "      <td>non-stop</td>\n",
              "      <td>06:35</td>\n",
              "      <td>Mumbai</td>\n",
              "      <td>5,956</td>\n",
              "    </tr>\n",
              "    <tr>\n",
              "      <th>3</th>\n",
              "      <td>11-02-2022</td>\n",
              "      <td>Vistara</td>\n",
              "      <td>UK</td>\n",
              "      <td>995</td>\n",
              "      <td>10:20</td>\n",
              "      <td>Delhi</td>\n",
              "      <td>02h 15m</td>\n",
              "      <td>non-stop</td>\n",
              "      <td>12:35</td>\n",
              "      <td>Mumbai</td>\n",
              "      <td>5,955</td>\n",
              "    </tr>\n",
              "    <tr>\n",
              "      <th>4</th>\n",
              "      <td>11-02-2022</td>\n",
              "      <td>Vistara</td>\n",
              "      <td>UK</td>\n",
              "      <td>963</td>\n",
              "      <td>08:50</td>\n",
              "      <td>Delhi</td>\n",
              "      <td>02h 20m</td>\n",
              "      <td>non-stop</td>\n",
              "      <td>11:10</td>\n",
              "      <td>Mumbai</td>\n",
              "      <td>5,955</td>\n",
              "    </tr>\n",
              "  </tbody>\n",
              "</table>\n",
              "</div>"
            ],
            "text/plain": [
              "         date   airline ch_code  num_code dep_time   from time_taken  \\\n",
              "0  11-02-2022  SpiceJet      SG      8709    18:55  Delhi    02h 10m   \n",
              "1  11-02-2022  SpiceJet      SG      8157    06:20  Delhi    02h 20m   \n",
              "2  11-02-2022   AirAsia      I5       764    04:25  Delhi    02h 10m   \n",
              "3  11-02-2022   Vistara      UK       995    10:20  Delhi    02h 15m   \n",
              "4  11-02-2022   Vistara      UK       963    08:50  Delhi    02h 20m   \n",
              "\n",
              "        stop arr_time      to  price  \n",
              "0  non-stop     21:05  Mumbai  5,953  \n",
              "1  non-stop     08:40  Mumbai  5,953  \n",
              "2  non-stop     06:35  Mumbai  5,956  \n",
              "3  non-stop     12:35  Mumbai  5,955  \n",
              "4  non-stop     11:10  Mumbai  5,955  "
            ]
          },
          "execution_count": 6,
          "metadata": {},
          "output_type": "execute_result"
        }
      ],
      "source": [
        "df_ec = pd.read_csv('economy.csv')\n",
        "df_ec.head()"
      ]
    },
    {
      "cell_type": "code",
      "execution_count": 7,
      "metadata": {
        "colab": {
          "base_uri": "https://localhost:8080/"
        },
        "id": "_BfACzsSF2P2",
        "outputId": "c9a1dda2-28c9-4b84-a71a-0d22d31081da"
      },
      "outputs": [
        {
          "data": {
            "text/plain": [
              "(206774, 11)"
            ]
          },
          "execution_count": 7,
          "metadata": {},
          "output_type": "execute_result"
        }
      ],
      "source": [
        "df_ec.shape"
      ]
    },
    {
      "cell_type": "code",
      "execution_count": 8,
      "metadata": {
        "colab": {
          "base_uri": "https://localhost:8080/"
        },
        "id": "oYB5ilPxF4bR",
        "outputId": "78a6d7ff-5cf1-4c70-c1cd-74c484300e47"
      },
      "outputs": [
        {
          "data": {
            "text/plain": [
              "Index(['date', 'airline', 'ch_code', 'num_code', 'dep_time', 'from',\n",
              "       'time_taken', 'stop', 'arr_time', 'to', 'price'],\n",
              "      dtype='object')"
            ]
          },
          "execution_count": 8,
          "metadata": {},
          "output_type": "execute_result"
        }
      ],
      "source": [
        "df_ec.columns"
      ]
    },
    {
      "cell_type": "code",
      "execution_count": 9,
      "metadata": {
        "colab": {
          "base_uri": "https://localhost:8080/",
          "height": 399
        },
        "id": "qhH-gU0DHabv",
        "outputId": "4e9bd60a-b10f-4216-db9e-5f3a367c70ea"
      },
      "outputs": [
        {
          "data": {
            "text/html": [
              "<div>\n",
              "<style scoped>\n",
              "    .dataframe tbody tr th:only-of-type {\n",
              "        vertical-align: middle;\n",
              "    }\n",
              "\n",
              "    .dataframe tbody tr th {\n",
              "        vertical-align: top;\n",
              "    }\n",
              "\n",
              "    .dataframe thead th {\n",
              "        text-align: right;\n",
              "    }\n",
              "</style>\n",
              "<table border=\"1\" class=\"dataframe\">\n",
              "  <thead>\n",
              "    <tr style=\"text-align: right;\">\n",
              "      <th></th>\n",
              "      <th>date</th>\n",
              "      <th>airline</th>\n",
              "      <th>ch_code</th>\n",
              "      <th>num_code</th>\n",
              "      <th>dep_time</th>\n",
              "      <th>from</th>\n",
              "      <th>time_taken</th>\n",
              "      <th>stop</th>\n",
              "      <th>arr_time</th>\n",
              "      <th>to</th>\n",
              "      <th>price</th>\n",
              "      <th>class</th>\n",
              "    </tr>\n",
              "  </thead>\n",
              "  <tbody>\n",
              "    <tr>\n",
              "      <th>0</th>\n",
              "      <td>11-02-2022</td>\n",
              "      <td>SpiceJet</td>\n",
              "      <td>SG</td>\n",
              "      <td>8709</td>\n",
              "      <td>18:55</td>\n",
              "      <td>Delhi</td>\n",
              "      <td>02h 10m</td>\n",
              "      <td>non-stop</td>\n",
              "      <td>21:05</td>\n",
              "      <td>Mumbai</td>\n",
              "      <td>5,953</td>\n",
              "      <td>economy</td>\n",
              "    </tr>\n",
              "    <tr>\n",
              "      <th>1</th>\n",
              "      <td>11-02-2022</td>\n",
              "      <td>SpiceJet</td>\n",
              "      <td>SG</td>\n",
              "      <td>8157</td>\n",
              "      <td>06:20</td>\n",
              "      <td>Delhi</td>\n",
              "      <td>02h 20m</td>\n",
              "      <td>non-stop</td>\n",
              "      <td>08:40</td>\n",
              "      <td>Mumbai</td>\n",
              "      <td>5,953</td>\n",
              "      <td>economy</td>\n",
              "    </tr>\n",
              "    <tr>\n",
              "      <th>2</th>\n",
              "      <td>11-02-2022</td>\n",
              "      <td>AirAsia</td>\n",
              "      <td>I5</td>\n",
              "      <td>764</td>\n",
              "      <td>04:25</td>\n",
              "      <td>Delhi</td>\n",
              "      <td>02h 10m</td>\n",
              "      <td>non-stop</td>\n",
              "      <td>06:35</td>\n",
              "      <td>Mumbai</td>\n",
              "      <td>5,956</td>\n",
              "      <td>economy</td>\n",
              "    </tr>\n",
              "    <tr>\n",
              "      <th>3</th>\n",
              "      <td>11-02-2022</td>\n",
              "      <td>Vistara</td>\n",
              "      <td>UK</td>\n",
              "      <td>995</td>\n",
              "      <td>10:20</td>\n",
              "      <td>Delhi</td>\n",
              "      <td>02h 15m</td>\n",
              "      <td>non-stop</td>\n",
              "      <td>12:35</td>\n",
              "      <td>Mumbai</td>\n",
              "      <td>5,955</td>\n",
              "      <td>economy</td>\n",
              "    </tr>\n",
              "    <tr>\n",
              "      <th>4</th>\n",
              "      <td>11-02-2022</td>\n",
              "      <td>Vistara</td>\n",
              "      <td>UK</td>\n",
              "      <td>963</td>\n",
              "      <td>08:50</td>\n",
              "      <td>Delhi</td>\n",
              "      <td>02h 20m</td>\n",
              "      <td>non-stop</td>\n",
              "      <td>11:10</td>\n",
              "      <td>Mumbai</td>\n",
              "      <td>5,955</td>\n",
              "      <td>economy</td>\n",
              "    </tr>\n",
              "  </tbody>\n",
              "</table>\n",
              "</div>"
            ],
            "text/plain": [
              "         date   airline ch_code  num_code dep_time   from time_taken  \\\n",
              "0  11-02-2022  SpiceJet      SG      8709    18:55  Delhi    02h 10m   \n",
              "1  11-02-2022  SpiceJet      SG      8157    06:20  Delhi    02h 20m   \n",
              "2  11-02-2022   AirAsia      I5       764    04:25  Delhi    02h 10m   \n",
              "3  11-02-2022   Vistara      UK       995    10:20  Delhi    02h 15m   \n",
              "4  11-02-2022   Vistara      UK       963    08:50  Delhi    02h 20m   \n",
              "\n",
              "        stop arr_time      to  price    class  \n",
              "0  non-stop     21:05  Mumbai  5,953  economy  \n",
              "1  non-stop     08:40  Mumbai  5,953  economy  \n",
              "2  non-stop     06:35  Mumbai  5,956  economy  \n",
              "3  non-stop     12:35  Mumbai  5,955  economy  \n",
              "4  non-stop     11:10  Mumbai  5,955  economy  "
            ]
          },
          "execution_count": 9,
          "metadata": {},
          "output_type": "execute_result"
        }
      ],
      "source": [
        "df_ec['class'] = 'economy' # Feature Eng.\n",
        "df_ec.head()"
      ]
    },
    {
      "cell_type": "markdown",
      "metadata": {
        "id": "iApGNPs_HmKS"
      },
      "source": [
        "## combining data"
      ]
    },
    {
      "cell_type": "code",
      "execution_count": 10,
      "metadata": {
        "colab": {
          "base_uri": "https://localhost:8080/"
        },
        "id": "Jkk-l1HIHjFE",
        "outputId": "62392d50-7a21-473d-f84e-57a4502eda7b"
      },
      "outputs": [
        {
          "data": {
            "text/plain": [
              "(300261, 12)"
            ]
          },
          "execution_count": 10,
          "metadata": {},
          "output_type": "execute_result"
        }
      ],
      "source": [
        "df = pd.concat([df_ec, df_bu], axis=0, ignore_index=True) # axis=0(row), axis=1(column)\n",
        "df.shape"
      ]
    },
    {
      "cell_type": "code",
      "execution_count": 11,
      "metadata": {
        "colab": {
          "base_uri": "https://localhost:8080/",
          "height": 135
        },
        "id": "zAUySXewInha",
        "outputId": "191ace4c-a140-4b0c-a4d8-30f298845e5f"
      },
      "outputs": [
        {
          "data": {
            "text/html": [
              "<div>\n",
              "<style scoped>\n",
              "    .dataframe tbody tr th:only-of-type {\n",
              "        vertical-align: middle;\n",
              "    }\n",
              "\n",
              "    .dataframe tbody tr th {\n",
              "        vertical-align: top;\n",
              "    }\n",
              "\n",
              "    .dataframe thead th {\n",
              "        text-align: right;\n",
              "    }\n",
              "</style>\n",
              "<table border=\"1\" class=\"dataframe\">\n",
              "  <thead>\n",
              "    <tr style=\"text-align: right;\">\n",
              "      <th></th>\n",
              "      <th>date</th>\n",
              "      <th>airline</th>\n",
              "      <th>ch_code</th>\n",
              "      <th>num_code</th>\n",
              "      <th>dep_time</th>\n",
              "      <th>from</th>\n",
              "      <th>time_taken</th>\n",
              "      <th>stop</th>\n",
              "      <th>arr_time</th>\n",
              "      <th>to</th>\n",
              "      <th>price</th>\n",
              "      <th>class</th>\n",
              "    </tr>\n",
              "  </thead>\n",
              "  <tbody>\n",
              "    <tr>\n",
              "      <th>166407</th>\n",
              "      <td>20-02-2022</td>\n",
              "      <td>Vistara</td>\n",
              "      <td>UK</td>\n",
              "      <td>870</td>\n",
              "      <td>20:35</td>\n",
              "      <td>Hyderabad</td>\n",
              "      <td>23h 50m</td>\n",
              "      <td>1-stop\\n\\t\\t\\t\\t\\t\\t\\t\\t\\t\\t\\t\\t\\n\\t\\t\\t\\t\\t\\t...</td>\n",
              "      <td>20:25</td>\n",
              "      <td>Bangalore</td>\n",
              "      <td>14,264</td>\n",
              "      <td>economy</td>\n",
              "    </tr>\n",
              "  </tbody>\n",
              "</table>\n",
              "</div>"
            ],
            "text/plain": [
              "              date  airline ch_code  num_code dep_time       from time_taken  \\\n",
              "166407  20-02-2022  Vistara      UK       870    20:35  Hyderabad    23h 50m   \n",
              "\n",
              "                                                     stop arr_time         to  \\\n",
              "166407  1-stop\\n\\t\\t\\t\\t\\t\\t\\t\\t\\t\\t\\t\\t\\n\\t\\t\\t\\t\\t\\t...    20:25  Bangalore   \n",
              "\n",
              "         price    class  \n",
              "166407  14,264  economy  "
            ]
          },
          "execution_count": 11,
          "metadata": {},
          "output_type": "execute_result"
        }
      ],
      "source": [
        "df.sample()"
      ]
    },
    {
      "cell_type": "code",
      "execution_count": 12,
      "metadata": {
        "colab": {
          "base_uri": "https://localhost:8080/"
        },
        "id": "SuZSFoTrOeOX",
        "outputId": "00c3919c-5895-4cf2-ddb4-d073c7a78b70"
      },
      "outputs": [
        {
          "data": {
            "text/plain": [
              "(300261, 12)"
            ]
          },
          "execution_count": 12,
          "metadata": {},
          "output_type": "execute_result"
        }
      ],
      "source": [
        "df.shape"
      ]
    },
    {
      "cell_type": "markdown",
      "metadata": {},
      "source": [
        "#### checking if there is any missing value (Data cleaning)"
      ]
    },
    {
      "cell_type": "code",
      "execution_count": 13,
      "metadata": {
        "colab": {
          "base_uri": "https://localhost:8080/"
        },
        "id": "e1qHylOLJGT5",
        "outputId": "b63ab33c-aaee-4902-b96f-3b1878916d22"
      },
      "outputs": [
        {
          "data": {
            "text/plain": [
              "date          0\n",
              "airline       0\n",
              "ch_code       0\n",
              "num_code      0\n",
              "dep_time      0\n",
              "from          0\n",
              "time_taken    0\n",
              "stop          0\n",
              "arr_time      0\n",
              "to            0\n",
              "price         0\n",
              "class         0\n",
              "dtype: int64"
            ]
          },
          "execution_count": 13,
          "metadata": {},
          "output_type": "execute_result"
        }
      ],
      "source": [
        "\n",
        "df.isna().sum()"
      ]
    },
    {
      "cell_type": "markdown",
      "metadata": {},
      "source": [
        "#### Check if there is any duplicates in the data (Data cleaning)"
      ]
    },
    {
      "cell_type": "code",
      "execution_count": 14,
      "metadata": {
        "colab": {
          "base_uri": "https://localhost:8080/"
        },
        "id": "yc5WNP8ULOyG",
        "outputId": "08271139-b9af-4975-d650-566fc45111b9"
      },
      "outputs": [
        {
          "data": {
            "text/plain": [
              "2"
            ]
          },
          "execution_count": 14,
          "metadata": {},
          "output_type": "execute_result"
        }
      ],
      "source": [
        "df.duplicated().sum()"
      ]
    },
    {
      "cell_type": "markdown",
      "metadata": {},
      "source": [
        "##### drop all the duplicate data (Data cleaning)"
      ]
    },
    {
      "cell_type": "code",
      "execution_count": 15,
      "metadata": {
        "id": "Z6n3NWisMhkl"
      },
      "outputs": [],
      "source": [
        "df.drop_duplicates(inplace=True, keep='first')"
      ]
    },
    {
      "cell_type": "code",
      "execution_count": 16,
      "metadata": {
        "colab": {
          "base_uri": "https://localhost:8080/"
        },
        "id": "OFhE4QR7NBrj",
        "outputId": "07133cda-e619-43ec-d4fa-68f1107316f9"
      },
      "outputs": [
        {
          "data": {
            "text/plain": [
              "0"
            ]
          },
          "execution_count": 16,
          "metadata": {},
          "output_type": "execute_result"
        }
      ],
      "source": [
        "df.duplicated().sum()"
      ]
    },
    {
      "cell_type": "code",
      "execution_count": 17,
      "metadata": {
        "colab": {
          "base_uri": "https://localhost:8080/"
        },
        "id": "ERUgm46FNBuP",
        "outputId": "08d8fce4-71a2-46bb-a45d-904b3bb2c60f"
      },
      "outputs": [
        {
          "data": {
            "text/plain": [
              "(300259, 12)"
            ]
          },
          "execution_count": 17,
          "metadata": {},
          "output_type": "execute_result"
        }
      ],
      "source": [
        "df.shape"
      ]
    },
    {
      "cell_type": "code",
      "execution_count": 18,
      "metadata": {
        "colab": {
          "base_uri": "https://localhost:8080/"
        },
        "id": "DlePQkTxN1_C",
        "outputId": "23cc960d-2df4-4fe5-8820-7a4dd66a1be6"
      },
      "outputs": [
        {
          "data": {
            "text/plain": [
              "Index(['date', 'airline', 'ch_code', 'num_code', 'dep_time', 'from',\n",
              "       'time_taken', 'stop', 'arr_time', 'to', 'price', 'class'],\n",
              "      dtype='object')"
            ]
          },
          "execution_count": 18,
          "metadata": {},
          "output_type": "execute_result"
        }
      ],
      "source": [
        "df.columns"
      ]
    },
    {
      "cell_type": "markdown",
      "metadata": {},
      "source": [
        "## data exploration"
      ]
    },
    {
      "cell_type": "code",
      "execution_count": 19,
      "metadata": {
        "colab": {
          "base_uri": "https://localhost:8080/"
        },
        "id": "TUVJz1K_Onbc",
        "outputId": "1ba53ba4-4c34-4cb5-aa10-acf0898ccda8"
      },
      "outputs": [
        {
          "data": {
            "text/plain": [
              "date          object\n",
              "airline       object\n",
              "ch_code       object\n",
              "num_code       int64\n",
              "dep_time      object\n",
              "from          object\n",
              "time_taken    object\n",
              "stop          object\n",
              "arr_time      object\n",
              "to            object\n",
              "price         object\n",
              "class         object\n",
              "dtype: object"
            ]
          },
          "execution_count": 19,
          "metadata": {},
          "output_type": "execute_result"
        }
      ],
      "source": [
        "df.dtypes"
      ]
    },
    {
      "cell_type": "code",
      "execution_count": 20,
      "metadata": {
        "colab": {
          "base_uri": "https://localhost:8080/",
          "height": 135
        },
        "id": "xVD9oZn8Ov3T",
        "outputId": "ee73593f-0db9-4678-8e79-107d04ab1758"
      },
      "outputs": [
        {
          "data": {
            "text/html": [
              "<div>\n",
              "<style scoped>\n",
              "    .dataframe tbody tr th:only-of-type {\n",
              "        vertical-align: middle;\n",
              "    }\n",
              "\n",
              "    .dataframe tbody tr th {\n",
              "        vertical-align: top;\n",
              "    }\n",
              "\n",
              "    .dataframe thead th {\n",
              "        text-align: right;\n",
              "    }\n",
              "</style>\n",
              "<table border=\"1\" class=\"dataframe\">\n",
              "  <thead>\n",
              "    <tr style=\"text-align: right;\">\n",
              "      <th></th>\n",
              "      <th>date</th>\n",
              "      <th>airline</th>\n",
              "      <th>ch_code</th>\n",
              "      <th>num_code</th>\n",
              "      <th>dep_time</th>\n",
              "      <th>from</th>\n",
              "      <th>time_taken</th>\n",
              "      <th>stop</th>\n",
              "      <th>arr_time</th>\n",
              "      <th>to</th>\n",
              "      <th>price</th>\n",
              "      <th>class</th>\n",
              "    </tr>\n",
              "  </thead>\n",
              "  <tbody>\n",
              "    <tr>\n",
              "      <th>121460</th>\n",
              "      <td>24-02-2022</td>\n",
              "      <td>Vistara</td>\n",
              "      <td>UK</td>\n",
              "      <td>778</td>\n",
              "      <td>15:20</td>\n",
              "      <td>Kolkata</td>\n",
              "      <td>02h 25m</td>\n",
              "      <td>non-stop</td>\n",
              "      <td>17:45</td>\n",
              "      <td>Delhi</td>\n",
              "      <td>6,594</td>\n",
              "      <td>economy</td>\n",
              "    </tr>\n",
              "  </tbody>\n",
              "</table>\n",
              "</div>"
            ],
            "text/plain": [
              "              date  airline ch_code  num_code dep_time     from time_taken  \\\n",
              "121460  24-02-2022  Vistara      UK       778    15:20  Kolkata    02h 25m   \n",
              "\n",
              "             stop arr_time     to  price    class  \n",
              "121460  non-stop     17:45  Delhi  6,594  economy  "
            ]
          },
          "execution_count": 20,
          "metadata": {},
          "output_type": "execute_result"
        }
      ],
      "source": [
        "df.sample() # AI-441"
      ]
    },
    {
      "cell_type": "markdown",
      "metadata": {},
      "source": [
        "### # create new feature 'flight_code' (Feature Eng)"
      ]
    },
    {
      "cell_type": "code",
      "execution_count": 21,
      "metadata": {
        "colab": {
          "base_uri": "https://localhost:8080/"
        },
        "id": "d6jIGFL7Pge_",
        "outputId": "62c7d58f-3944-416f-b803-4c41f54383bf"
      },
      "outputs": [
        {
          "data": {
            "text/plain": [
              "date          object\n",
              "airline       object\n",
              "ch_code       object\n",
              "num_code      object\n",
              "dep_time      object\n",
              "from          object\n",
              "time_taken    object\n",
              "stop          object\n",
              "arr_time      object\n",
              "to            object\n",
              "price         object\n",
              "class         object\n",
              "dtype: object"
            ]
          },
          "execution_count": 21,
          "metadata": {},
          "output_type": "execute_result"
        }
      ],
      "source": [
        "\n",
        "df['num_code'] = df['num_code'].astype('str')\n",
        "df.dtypes"
      ]
    },
    {
      "cell_type": "code",
      "execution_count": 22,
      "metadata": {
        "colab": {
          "base_uri": "https://localhost:8080/",
          "height": 135
        },
        "id": "t1UNZPU7QSV3",
        "outputId": "42327375-7718-4d2c-b813-3fa401aab1c3"
      },
      "outputs": [
        {
          "data": {
            "text/html": [
              "<div>\n",
              "<style scoped>\n",
              "    .dataframe tbody tr th:only-of-type {\n",
              "        vertical-align: middle;\n",
              "    }\n",
              "\n",
              "    .dataframe tbody tr th {\n",
              "        vertical-align: top;\n",
              "    }\n",
              "\n",
              "    .dataframe thead th {\n",
              "        text-align: right;\n",
              "    }\n",
              "</style>\n",
              "<table border=\"1\" class=\"dataframe\">\n",
              "  <thead>\n",
              "    <tr style=\"text-align: right;\">\n",
              "      <th></th>\n",
              "      <th>date</th>\n",
              "      <th>airline</th>\n",
              "      <th>ch_code</th>\n",
              "      <th>num_code</th>\n",
              "      <th>dep_time</th>\n",
              "      <th>from</th>\n",
              "      <th>time_taken</th>\n",
              "      <th>stop</th>\n",
              "      <th>arr_time</th>\n",
              "      <th>to</th>\n",
              "      <th>price</th>\n",
              "      <th>class</th>\n",
              "      <th>flight_code</th>\n",
              "    </tr>\n",
              "  </thead>\n",
              "  <tbody>\n",
              "    <tr>\n",
              "      <th>0</th>\n",
              "      <td>11-02-2022</td>\n",
              "      <td>SpiceJet</td>\n",
              "      <td>SG</td>\n",
              "      <td>8709</td>\n",
              "      <td>18:55</td>\n",
              "      <td>Delhi</td>\n",
              "      <td>02h 10m</td>\n",
              "      <td>non-stop</td>\n",
              "      <td>21:05</td>\n",
              "      <td>Mumbai</td>\n",
              "      <td>5,953</td>\n",
              "      <td>economy</td>\n",
              "      <td>SG-8709</td>\n",
              "    </tr>\n",
              "  </tbody>\n",
              "</table>\n",
              "</div>"
            ],
            "text/plain": [
              "         date   airline ch_code num_code dep_time   from time_taken  \\\n",
              "0  11-02-2022  SpiceJet      SG     8709    18:55  Delhi    02h 10m   \n",
              "\n",
              "        stop arr_time      to  price    class flight_code  \n",
              "0  non-stop     21:05  Mumbai  5,953  economy     SG-8709  "
            ]
          },
          "execution_count": 22,
          "metadata": {},
          "output_type": "execute_result"
        }
      ],
      "source": [
        "df['flight_code'] = df['ch_code'] + '-' + df['num_code']\n",
        "df.head(1)"
      ]
    },
    {
      "cell_type": "code",
      "execution_count": 23,
      "metadata": {
        "colab": {
          "base_uri": "https://localhost:8080/",
          "height": 115
        },
        "id": "qbw3bzawQms-",
        "outputId": "77bd9053-b525-46a6-aa75-4be63cd453e6"
      },
      "outputs": [
        {
          "data": {
            "text/html": [
              "<div>\n",
              "<style scoped>\n",
              "    .dataframe tbody tr th:only-of-type {\n",
              "        vertical-align: middle;\n",
              "    }\n",
              "\n",
              "    .dataframe tbody tr th {\n",
              "        vertical-align: top;\n",
              "    }\n",
              "\n",
              "    .dataframe thead th {\n",
              "        text-align: right;\n",
              "    }\n",
              "</style>\n",
              "<table border=\"1\" class=\"dataframe\">\n",
              "  <thead>\n",
              "    <tr style=\"text-align: right;\">\n",
              "      <th></th>\n",
              "      <th>date</th>\n",
              "      <th>airline</th>\n",
              "      <th>dep_time</th>\n",
              "      <th>from</th>\n",
              "      <th>time_taken</th>\n",
              "      <th>stop</th>\n",
              "      <th>arr_time</th>\n",
              "      <th>to</th>\n",
              "      <th>price</th>\n",
              "      <th>class</th>\n",
              "      <th>flight_code</th>\n",
              "    </tr>\n",
              "  </thead>\n",
              "  <tbody>\n",
              "    <tr>\n",
              "      <th>0</th>\n",
              "      <td>11-02-2022</td>\n",
              "      <td>SpiceJet</td>\n",
              "      <td>18:55</td>\n",
              "      <td>Delhi</td>\n",
              "      <td>02h 10m</td>\n",
              "      <td>non-stop</td>\n",
              "      <td>21:05</td>\n",
              "      <td>Mumbai</td>\n",
              "      <td>5,953</td>\n",
              "      <td>economy</td>\n",
              "      <td>SG-8709</td>\n",
              "    </tr>\n",
              "  </tbody>\n",
              "</table>\n",
              "</div>"
            ],
            "text/plain": [
              "         date   airline dep_time   from time_taken       stop arr_time  \\\n",
              "0  11-02-2022  SpiceJet    18:55  Delhi    02h 10m  non-stop     21:05   \n",
              "\n",
              "       to  price    class flight_code  \n",
              "0  Mumbai  5,953  economy     SG-8709  "
            ]
          },
          "execution_count": 23,
          "metadata": {},
          "output_type": "execute_result"
        }
      ],
      "source": [
        "df.drop(['ch_code', 'num_code'], inplace=True, axis=1)\n",
        "df.head(1)"
      ]
    },
    {
      "cell_type": "markdown",
      "metadata": {},
      "source": [
        "### change the columns names (Data Organization and Data Integration)"
      ]
    },
    {
      "cell_type": "code",
      "execution_count": 24,
      "metadata": {
        "colab": {
          "base_uri": "https://localhost:8080/",
          "height": 399
        },
        "id": "1RKMym8XREDX",
        "outputId": "7be7d25e-b268-4b6e-e39b-9dd1e77acf13"
      },
      "outputs": [
        {
          "data": {
            "text/html": [
              "<div>\n",
              "<style scoped>\n",
              "    .dataframe tbody tr th:only-of-type {\n",
              "        vertical-align: middle;\n",
              "    }\n",
              "\n",
              "    .dataframe tbody tr th {\n",
              "        vertical-align: top;\n",
              "    }\n",
              "\n",
              "    .dataframe thead th {\n",
              "        text-align: right;\n",
              "    }\n",
              "</style>\n",
              "<table border=\"1\" class=\"dataframe\">\n",
              "  <thead>\n",
              "    <tr style=\"text-align: right;\">\n",
              "      <th></th>\n",
              "      <th>date</th>\n",
              "      <th>airline</th>\n",
              "      <th>departure_time</th>\n",
              "      <th>source_city</th>\n",
              "      <th>duration</th>\n",
              "      <th>stops</th>\n",
              "      <th>arrival_time</th>\n",
              "      <th>destination_city</th>\n",
              "      <th>price</th>\n",
              "      <th>class</th>\n",
              "      <th>flight_code</th>\n",
              "    </tr>\n",
              "  </thead>\n",
              "  <tbody>\n",
              "    <tr>\n",
              "      <th>0</th>\n",
              "      <td>11-02-2022</td>\n",
              "      <td>SpiceJet</td>\n",
              "      <td>18:55</td>\n",
              "      <td>Delhi</td>\n",
              "      <td>02h 10m</td>\n",
              "      <td>non-stop</td>\n",
              "      <td>21:05</td>\n",
              "      <td>Mumbai</td>\n",
              "      <td>5,953</td>\n",
              "      <td>economy</td>\n",
              "      <td>SG-8709</td>\n",
              "    </tr>\n",
              "    <tr>\n",
              "      <th>1</th>\n",
              "      <td>11-02-2022</td>\n",
              "      <td>SpiceJet</td>\n",
              "      <td>06:20</td>\n",
              "      <td>Delhi</td>\n",
              "      <td>02h 20m</td>\n",
              "      <td>non-stop</td>\n",
              "      <td>08:40</td>\n",
              "      <td>Mumbai</td>\n",
              "      <td>5,953</td>\n",
              "      <td>economy</td>\n",
              "      <td>SG-8157</td>\n",
              "    </tr>\n",
              "    <tr>\n",
              "      <th>2</th>\n",
              "      <td>11-02-2022</td>\n",
              "      <td>AirAsia</td>\n",
              "      <td>04:25</td>\n",
              "      <td>Delhi</td>\n",
              "      <td>02h 10m</td>\n",
              "      <td>non-stop</td>\n",
              "      <td>06:35</td>\n",
              "      <td>Mumbai</td>\n",
              "      <td>5,956</td>\n",
              "      <td>economy</td>\n",
              "      <td>I5-764</td>\n",
              "    </tr>\n",
              "    <tr>\n",
              "      <th>3</th>\n",
              "      <td>11-02-2022</td>\n",
              "      <td>Vistara</td>\n",
              "      <td>10:20</td>\n",
              "      <td>Delhi</td>\n",
              "      <td>02h 15m</td>\n",
              "      <td>non-stop</td>\n",
              "      <td>12:35</td>\n",
              "      <td>Mumbai</td>\n",
              "      <td>5,955</td>\n",
              "      <td>economy</td>\n",
              "      <td>UK-995</td>\n",
              "    </tr>\n",
              "    <tr>\n",
              "      <th>4</th>\n",
              "      <td>11-02-2022</td>\n",
              "      <td>Vistara</td>\n",
              "      <td>08:50</td>\n",
              "      <td>Delhi</td>\n",
              "      <td>02h 20m</td>\n",
              "      <td>non-stop</td>\n",
              "      <td>11:10</td>\n",
              "      <td>Mumbai</td>\n",
              "      <td>5,955</td>\n",
              "      <td>economy</td>\n",
              "      <td>UK-963</td>\n",
              "    </tr>\n",
              "  </tbody>\n",
              "</table>\n",
              "</div>"
            ],
            "text/plain": [
              "         date   airline departure_time source_city duration      stops  \\\n",
              "0  11-02-2022  SpiceJet          18:55       Delhi  02h 10m  non-stop    \n",
              "1  11-02-2022  SpiceJet          06:20       Delhi  02h 20m  non-stop    \n",
              "2  11-02-2022   AirAsia          04:25       Delhi  02h 10m  non-stop    \n",
              "3  11-02-2022   Vistara          10:20       Delhi  02h 15m  non-stop    \n",
              "4  11-02-2022   Vistara          08:50       Delhi  02h 20m  non-stop    \n",
              "\n",
              "  arrival_time destination_city  price    class flight_code  \n",
              "0        21:05           Mumbai  5,953  economy     SG-8709  \n",
              "1        08:40           Mumbai  5,953  economy     SG-8157  \n",
              "2        06:35           Mumbai  5,956  economy      I5-764  \n",
              "3        12:35           Mumbai  5,955  economy      UK-995  \n",
              "4        11:10           Mumbai  5,955  economy      UK-963  "
            ]
          },
          "execution_count": 24,
          "metadata": {},
          "output_type": "execute_result"
        }
      ],
      "source": [
        "df.columns = ['date', 'airline', 'departure_time', 'source_city', 'duration', 'stops', 'arrival_time',\n",
        "              'destination_city', 'price', 'class', 'flight_code']\n",
        "df.head(5)"
      ]
    },
    {
      "cell_type": "markdown",
      "metadata": {},
      "source": [
        "### Changing the duration in order to make it more readable and better for analyzing"
      ]
    },
    {
      "cell_type": "code",
      "execution_count": 25,
      "metadata": {
        "colab": {
          "base_uri": "https://localhost:8080/",
          "height": 206
        },
        "id": "VxEUa7FjWwMp",
        "outputId": "2a332a3e-10fd-4935-fc25-49450dc5ea46"
      },
      "outputs": [
        {
          "data": {
            "text/html": [
              "<div>\n",
              "<style scoped>\n",
              "    .dataframe tbody tr th:only-of-type {\n",
              "        vertical-align: middle;\n",
              "    }\n",
              "\n",
              "    .dataframe tbody tr th {\n",
              "        vertical-align: top;\n",
              "    }\n",
              "\n",
              "    .dataframe thead th {\n",
              "        text-align: right;\n",
              "    }\n",
              "</style>\n",
              "<table border=\"1\" class=\"dataframe\">\n",
              "  <thead>\n",
              "    <tr style=\"text-align: right;\">\n",
              "      <th></th>\n",
              "      <th>hours</th>\n",
              "      <th>minutes</th>\n",
              "    </tr>\n",
              "  </thead>\n",
              "  <tbody>\n",
              "    <tr>\n",
              "      <th>0</th>\n",
              "      <td>02h</td>\n",
              "      <td>10m</td>\n",
              "    </tr>\n",
              "    <tr>\n",
              "      <th>1</th>\n",
              "      <td>02h</td>\n",
              "      <td>20m</td>\n",
              "    </tr>\n",
              "    <tr>\n",
              "      <th>2</th>\n",
              "      <td>02h</td>\n",
              "      <td>10m</td>\n",
              "    </tr>\n",
              "    <tr>\n",
              "      <th>3</th>\n",
              "      <td>02h</td>\n",
              "      <td>15m</td>\n",
              "    </tr>\n",
              "    <tr>\n",
              "      <th>4</th>\n",
              "      <td>02h</td>\n",
              "      <td>20m</td>\n",
              "    </tr>\n",
              "  </tbody>\n",
              "</table>\n",
              "</div>"
            ],
            "text/plain": [
              "  hours minutes\n",
              "0   02h     10m\n",
              "1   02h     20m\n",
              "2   02h     10m\n",
              "3   02h     15m\n",
              "4   02h     20m"
            ]
          },
          "execution_count": 25,
          "metadata": {},
          "output_type": "execute_result"
        }
      ],
      "source": [
        "## split the duration data into two columns hours and minutes \n",
        "temp = pd.DataFrame()\n",
        "temp[['hours', 'minutes']] = df['duration'].str.split(expand=True)\n",
        "temp.head()"
      ]
    },
    {
      "cell_type": "code",
      "execution_count": 26,
      "metadata": {
        "colab": {
          "base_uri": "https://localhost:8080/",
          "height": 206
        },
        "id": "LfT0xdaSW-lA",
        "outputId": "4a9b19ac-b165-48d5-9e58-547d7e7857eb"
      },
      "outputs": [
        {
          "data": {
            "text/html": [
              "<div>\n",
              "<style scoped>\n",
              "    .dataframe tbody tr th:only-of-type {\n",
              "        vertical-align: middle;\n",
              "    }\n",
              "\n",
              "    .dataframe tbody tr th {\n",
              "        vertical-align: top;\n",
              "    }\n",
              "\n",
              "    .dataframe thead th {\n",
              "        text-align: right;\n",
              "    }\n",
              "</style>\n",
              "<table border=\"1\" class=\"dataframe\">\n",
              "  <thead>\n",
              "    <tr style=\"text-align: right;\">\n",
              "      <th></th>\n",
              "      <th>hours</th>\n",
              "      <th>minutes</th>\n",
              "    </tr>\n",
              "  </thead>\n",
              "  <tbody>\n",
              "    <tr>\n",
              "      <th>0</th>\n",
              "      <td>02</td>\n",
              "      <td>10</td>\n",
              "    </tr>\n",
              "    <tr>\n",
              "      <th>1</th>\n",
              "      <td>02</td>\n",
              "      <td>20</td>\n",
              "    </tr>\n",
              "    <tr>\n",
              "      <th>2</th>\n",
              "      <td>02</td>\n",
              "      <td>10</td>\n",
              "    </tr>\n",
              "    <tr>\n",
              "      <th>3</th>\n",
              "      <td>02</td>\n",
              "      <td>15</td>\n",
              "    </tr>\n",
              "    <tr>\n",
              "      <th>4</th>\n",
              "      <td>02</td>\n",
              "      <td>20</td>\n",
              "    </tr>\n",
              "  </tbody>\n",
              "</table>\n",
              "</div>"
            ],
            "text/plain": [
              "  hours minutes\n",
              "0    02      10\n",
              "1    02      20\n",
              "2    02      10\n",
              "3    02      15\n",
              "4    02      20"
            ]
          },
          "execution_count": 26,
          "metadata": {},
          "output_type": "execute_result"
        }
      ],
      "source": [
        "## using the regular expression libary remove any non numerical charecters and replace it with ''\n",
        "import re\n",
        "temp['hours'] = temp['hours'].apply(lambda x: re.sub('[^0-9]', '', x))\n",
        "temp['minutes'] = temp['minutes'].apply(lambda x: re.sub('[^0-9]', '', x))\n",
        "temp.head()"
      ]
    },
    {
      "cell_type": "code",
      "execution_count": 27,
      "metadata": {
        "colab": {
          "base_uri": "https://localhost:8080/"
        },
        "id": "5OY1bLTQZzzN",
        "outputId": "a59279f0-7981-4d96-d560-90c2a96e5e54"
      },
      "outputs": [
        {
          "data": {
            "text/plain": [
              "minutes\n",
              "10    30327\n",
              "15    27950\n",
              "05    26538\n",
              "00    25605\n",
              "30    25038\n",
              "20    24760\n",
              "55    24661\n",
              "45    23670\n",
              "50    23330\n",
              "25    23064\n",
              "35    22711\n",
              "40    22566\n",
              "59       15\n",
              "24       15\n",
              "04        5\n",
              "          4\n",
              "Name: count, dtype: int64"
            ]
          },
          "execution_count": 27,
          "metadata": {},
          "output_type": "execute_result"
        }
      ],
      "source": [
        "temp['minutes'].value_counts()"
      ]
    },
    {
      "cell_type": "code",
      "execution_count": 28,
      "metadata": {
        "colab": {
          "base_uri": "https://localhost:8080/"
        },
        "id": "ZEqOYLbqac1Q",
        "outputId": "a3a8688d-7c3a-44a3-dcf7-9457c765cd01"
      },
      "outputs": [
        {
          "data": {
            "text/plain": [
              "minutes\n",
              "10    30327\n",
              "15    27950\n",
              "05    26538\n",
              "00    25609\n",
              "30    25038\n",
              "20    24760\n",
              "55    24661\n",
              "45    23670\n",
              "50    23330\n",
              "25    23064\n",
              "35    22711\n",
              "40    22566\n",
              "59       15\n",
              "24       15\n",
              "04        5\n",
              "Name: count, dtype: int64"
            ]
          },
          "execution_count": 28,
          "metadata": {},
          "output_type": "execute_result"
        }
      ],
      "source": [
        "## replace any '' to '00'\n",
        "temp['minutes'] = temp['minutes'].replace('','00')\n",
        "temp['minutes'].value_counts()"
      ]
    },
    {
      "cell_type": "code",
      "execution_count": 29,
      "metadata": {
        "colab": {
          "base_uri": "https://localhost:8080/"
        },
        "id": "GB17osGXaphX",
        "outputId": "b8f35e49-ff24-4278-910d-c5624bd6a988"
      },
      "outputs": [
        {
          "data": {
            "text/plain": [
              "hours      object\n",
              "minutes    object\n",
              "dtype: object"
            ]
          },
          "execution_count": 29,
          "metadata": {},
          "output_type": "execute_result"
        }
      ],
      "source": [
        "# decimal\n",
        "temp.dtypes"
      ]
    },
    {
      "cell_type": "code",
      "execution_count": 30,
      "metadata": {
        "colab": {
          "base_uri": "https://localhost:8080/"
        },
        "id": "XhrSjv0aa2cA",
        "outputId": "6b77f17a-b015-4ad0-b63c-b7ad01f5ac0d"
      },
      "outputs": [
        {
          "data": {
            "text/plain": [
              "hours      int32\n",
              "minutes    int32\n",
              "dtype: object"
            ]
          },
          "execution_count": 30,
          "metadata": {},
          "output_type": "execute_result"
        }
      ],
      "source": [
        "# change the datatype for hours and minutes from object to int to make it fit in the model\n",
        "temp['hours'] = temp['hours'].astype(int)\n",
        "temp['minutes'] = temp['minutes'].astype('int')\n",
        "temp.dtypes"
      ]
    },
    {
      "cell_type": "code",
      "execution_count": 31,
      "metadata": {
        "colab": {
          "base_uri": "https://localhost:8080/",
          "height": 206
        },
        "id": "wBEHpPAnbGfN",
        "outputId": "430d275e-f6f9-466e-e2af-d0fc9ecf712b"
      },
      "outputs": [
        {
          "data": {
            "text/html": [
              "<div>\n",
              "<style scoped>\n",
              "    .dataframe tbody tr th:only-of-type {\n",
              "        vertical-align: middle;\n",
              "    }\n",
              "\n",
              "    .dataframe tbody tr th {\n",
              "        vertical-align: top;\n",
              "    }\n",
              "\n",
              "    .dataframe thead th {\n",
              "        text-align: right;\n",
              "    }\n",
              "</style>\n",
              "<table border=\"1\" class=\"dataframe\">\n",
              "  <thead>\n",
              "    <tr style=\"text-align: right;\">\n",
              "      <th></th>\n",
              "      <th>hours</th>\n",
              "      <th>minutes</th>\n",
              "      <th>duration</th>\n",
              "    </tr>\n",
              "  </thead>\n",
              "  <tbody>\n",
              "    <tr>\n",
              "      <th>0</th>\n",
              "      <td>2</td>\n",
              "      <td>10</td>\n",
              "      <td>2.17</td>\n",
              "    </tr>\n",
              "    <tr>\n",
              "      <th>1</th>\n",
              "      <td>2</td>\n",
              "      <td>20</td>\n",
              "      <td>2.33</td>\n",
              "    </tr>\n",
              "    <tr>\n",
              "      <th>2</th>\n",
              "      <td>2</td>\n",
              "      <td>10</td>\n",
              "      <td>2.17</td>\n",
              "    </tr>\n",
              "    <tr>\n",
              "      <th>3</th>\n",
              "      <td>2</td>\n",
              "      <td>15</td>\n",
              "      <td>2.25</td>\n",
              "    </tr>\n",
              "    <tr>\n",
              "      <th>4</th>\n",
              "      <td>2</td>\n",
              "      <td>20</td>\n",
              "      <td>2.33</td>\n",
              "    </tr>\n",
              "  </tbody>\n",
              "</table>\n",
              "</div>"
            ],
            "text/plain": [
              "   hours  minutes  duration\n",
              "0      2       10      2.17\n",
              "1      2       20      2.33\n",
              "2      2       10      2.17\n",
              "3      2       15      2.25\n",
              "4      2       20      2.33"
            ]
          },
          "execution_count": 31,
          "metadata": {},
          "output_type": "execute_result"
        }
      ],
      "source": [
        "temp['duration'] = np.round(((temp['hours']*60 + temp['minutes'])/60),2)\n",
        "temp.head()"
      ]
    },
    {
      "cell_type": "code",
      "execution_count": 32,
      "metadata": {
        "colab": {
          "base_uri": "https://localhost:8080/",
          "height": 399
        },
        "id": "WqoN1uB9boO4",
        "outputId": "bcaa80a0-5c25-491e-a019-a5913b82dd24"
      },
      "outputs": [
        {
          "data": {
            "text/html": [
              "<div>\n",
              "<style scoped>\n",
              "    .dataframe tbody tr th:only-of-type {\n",
              "        vertical-align: middle;\n",
              "    }\n",
              "\n",
              "    .dataframe tbody tr th {\n",
              "        vertical-align: top;\n",
              "    }\n",
              "\n",
              "    .dataframe thead th {\n",
              "        text-align: right;\n",
              "    }\n",
              "</style>\n",
              "<table border=\"1\" class=\"dataframe\">\n",
              "  <thead>\n",
              "    <tr style=\"text-align: right;\">\n",
              "      <th></th>\n",
              "      <th>date</th>\n",
              "      <th>airline</th>\n",
              "      <th>departure_time</th>\n",
              "      <th>source_city</th>\n",
              "      <th>duration</th>\n",
              "      <th>stops</th>\n",
              "      <th>arrival_time</th>\n",
              "      <th>destination_city</th>\n",
              "      <th>price</th>\n",
              "      <th>class</th>\n",
              "      <th>flight_code</th>\n",
              "    </tr>\n",
              "  </thead>\n",
              "  <tbody>\n",
              "    <tr>\n",
              "      <th>0</th>\n",
              "      <td>11-02-2022</td>\n",
              "      <td>SpiceJet</td>\n",
              "      <td>18:55</td>\n",
              "      <td>Delhi</td>\n",
              "      <td>2.17</td>\n",
              "      <td>non-stop</td>\n",
              "      <td>21:05</td>\n",
              "      <td>Mumbai</td>\n",
              "      <td>5,953</td>\n",
              "      <td>economy</td>\n",
              "      <td>SG-8709</td>\n",
              "    </tr>\n",
              "    <tr>\n",
              "      <th>1</th>\n",
              "      <td>11-02-2022</td>\n",
              "      <td>SpiceJet</td>\n",
              "      <td>06:20</td>\n",
              "      <td>Delhi</td>\n",
              "      <td>2.33</td>\n",
              "      <td>non-stop</td>\n",
              "      <td>08:40</td>\n",
              "      <td>Mumbai</td>\n",
              "      <td>5,953</td>\n",
              "      <td>economy</td>\n",
              "      <td>SG-8157</td>\n",
              "    </tr>\n",
              "    <tr>\n",
              "      <th>2</th>\n",
              "      <td>11-02-2022</td>\n",
              "      <td>AirAsia</td>\n",
              "      <td>04:25</td>\n",
              "      <td>Delhi</td>\n",
              "      <td>2.17</td>\n",
              "      <td>non-stop</td>\n",
              "      <td>06:35</td>\n",
              "      <td>Mumbai</td>\n",
              "      <td>5,956</td>\n",
              "      <td>economy</td>\n",
              "      <td>I5-764</td>\n",
              "    </tr>\n",
              "    <tr>\n",
              "      <th>3</th>\n",
              "      <td>11-02-2022</td>\n",
              "      <td>Vistara</td>\n",
              "      <td>10:20</td>\n",
              "      <td>Delhi</td>\n",
              "      <td>2.25</td>\n",
              "      <td>non-stop</td>\n",
              "      <td>12:35</td>\n",
              "      <td>Mumbai</td>\n",
              "      <td>5,955</td>\n",
              "      <td>economy</td>\n",
              "      <td>UK-995</td>\n",
              "    </tr>\n",
              "    <tr>\n",
              "      <th>4</th>\n",
              "      <td>11-02-2022</td>\n",
              "      <td>Vistara</td>\n",
              "      <td>08:50</td>\n",
              "      <td>Delhi</td>\n",
              "      <td>2.33</td>\n",
              "      <td>non-stop</td>\n",
              "      <td>11:10</td>\n",
              "      <td>Mumbai</td>\n",
              "      <td>5,955</td>\n",
              "      <td>economy</td>\n",
              "      <td>UK-963</td>\n",
              "    </tr>\n",
              "  </tbody>\n",
              "</table>\n",
              "</div>"
            ],
            "text/plain": [
              "         date   airline departure_time source_city  duration      stops  \\\n",
              "0  11-02-2022  SpiceJet          18:55       Delhi      2.17  non-stop    \n",
              "1  11-02-2022  SpiceJet          06:20       Delhi      2.33  non-stop    \n",
              "2  11-02-2022   AirAsia          04:25       Delhi      2.17  non-stop    \n",
              "3  11-02-2022   Vistara          10:20       Delhi      2.25  non-stop    \n",
              "4  11-02-2022   Vistara          08:50       Delhi      2.33  non-stop    \n",
              "\n",
              "  arrival_time destination_city  price    class flight_code  \n",
              "0        21:05           Mumbai  5,953  economy     SG-8709  \n",
              "1        08:40           Mumbai  5,953  economy     SG-8157  \n",
              "2        06:35           Mumbai  5,956  economy      I5-764  \n",
              "3        12:35           Mumbai  5,955  economy      UK-995  \n",
              "4        11:10           Mumbai  5,955  economy      UK-963  "
            ]
          },
          "execution_count": 32,
          "metadata": {},
          "output_type": "execute_result"
        }
      ],
      "source": [
        "df['duration'] = temp['duration']\n",
        "df.head()"
      ]
    },
    {
      "cell_type": "code",
      "execution_count": 33,
      "metadata": {
        "colab": {
          "base_uri": "https://localhost:8080/"
        },
        "id": "FxNk7upwbyiN",
        "outputId": "59479c74-9a22-49fe-d71a-0200fc1fe55c"
      },
      "outputs": [
        {
          "data": {
            "text/plain": [
              "Index(['date', 'airline', 'departure_time', 'source_city', 'duration', 'stops',\n",
              "       'arrival_time', 'destination_city', 'price', 'class', 'flight_code'],\n",
              "      dtype='object')"
            ]
          },
          "execution_count": 33,
          "metadata": {},
          "output_type": "execute_result"
        }
      ],
      "source": [
        "df.columns"
      ]
    },
    {
      "cell_type": "code",
      "execution_count": 34,
      "metadata": {
        "colab": {
          "base_uri": "https://localhost:8080/"
        },
        "id": "k2RB3FHyb5e_",
        "outputId": "d94bc498-cca8-4dee-b38b-7453888e6d76"
      },
      "outputs": [
        {
          "data": {
            "text/plain": [
              "40"
            ]
          },
          "execution_count": 34,
          "metadata": {},
          "output_type": "execute_result"
        }
      ],
      "source": [
        "# Stops\n",
        "len(df['stops'].unique())"
      ]
    },
    {
      "cell_type": "code",
      "execution_count": 35,
      "metadata": {
        "colab": {
          "base_uri": "https://localhost:8080/"
        },
        "id": "-A50ePi_b789",
        "outputId": "b75de7a4-dce8-4158-8fbe-c87fe2617636"
      },
      "outputs": [
        {
          "data": {
            "text/plain": [
              "stops\n",
              "1-stop\\n\\t\\t\\t\\t\\t\\t\\t\\t\\t\\t\\t\\t\\n\\t\\t\\t\\t\\t\\t\\t\\t\\t\\t\\t\\t                      243601\n",
              "non-stop                                                                         36044\n",
              "2+-stop                                                                          13288\n",
              "1-stop\\n\\t\\t\\t\\t\\t\\t\\t\\t\\t\\t\\t\\tVia IXU\\n\\t\\t\\t\\t\\t\\t\\t\\t\\t\\t\\t\\t                 1839\n",
              "1-stop\\n\\t\\t\\t\\t\\t\\t\\t\\t\\t\\t\\t\\tVia IDR\\n\\t\\t\\t\\t\\t\\t\\t\\t\\t\\t\\t\\t                 1398\n",
              "1-stop\\n\\t\\t\\t\\t\\t\\t\\t\\t\\t\\t\\t\\tVia Patna\\n\\t\\t\\t\\t\\t\\t\\t\\t\\t\\t\\t\\t                674\n",
              "1-stop\\n\\t\\t\\t\\t\\t\\t\\t\\t\\t\\t\\t\\tVia Indore\\n\\t\\t\\t\\t\\t\\t\\t\\t\\t\\t\\t\\t               381\n",
              "1-stop\\n\\t\\t\\t\\t\\t\\t\\t\\t\\t\\t\\t\\tVia PAT\\n\\t\\t\\t\\t\\t\\t\\t\\t\\t\\t\\t\\t                  354\n",
              "1-stop\\n\\t\\t\\t\\t\\t\\t\\t\\t\\t\\t\\t\\tVia MYQ\\n\\t\\t\\t\\t\\t\\t\\t\\t\\t\\t\\t\\t                  321\n",
              "1-stop\\n\\t\\t\\t\\t\\t\\t\\t\\t\\t\\t\\t\\tVia Bhubaneswar\\n\\t\\t\\t\\t\\t\\t\\t\\t\\t\\t\\t\\t          301\n",
              "1-stop\\n\\t\\t\\t\\t\\t\\t\\t\\t\\t\\t\\t\\tVia KLH\\n\\t\\t\\t\\t\\t\\t\\t\\t\\t\\t\\t\\t                  284\n",
              "1-stop\\n\\t\\t\\t\\t\\t\\t\\t\\t\\t\\t\\t\\tVia JGB\\n\\t\\t\\t\\t\\t\\t\\t\\t\\t\\t\\t\\t                  193\n",
              "1-stop\\n\\t\\t\\t\\t\\t\\t\\t\\t\\t\\t\\t\\tVia JRG\\n\\t\\t\\t\\t\\t\\t\\t\\t\\t\\t\\t\\t                  175\n",
              "1-stop\\n\\t\\t\\t\\t\\t\\t\\t\\t\\t\\t\\t\\tVia STV\\n\\t\\t\\t\\t\\t\\t\\t\\t\\t\\t\\t\\t                  169\n",
              "1-stop\\n\\t\\t\\t\\t\\t\\t\\t\\t\\t\\t\\t\\tVia BBI\\n\\t\\t\\t\\t\\t\\t\\t\\t\\t\\t\\t\\t                  158\n",
              "1-stop\\n\\t\\t\\t\\t\\t\\t\\t\\t\\t\\t\\t\\tVia Delhi\\n\\t\\t\\t\\t\\t\\t\\t\\t\\t\\t\\t\\t                153\n",
              "1-stop\\n\\t\\t\\t\\t\\t\\t\\t\\t\\t\\t\\t\\tVia Hyderabad\\n\\t\\t\\t\\t\\t\\t\\t\\t\\t\\t\\t\\t            143\n",
              "1-stop\\n\\t\\t\\t\\t\\t\\t\\t\\t\\t\\t\\t\\tVia IXE\\n\\t\\t\\t\\t\\t\\t\\t\\t\\t\\t\\t\\t                  120\n",
              "1-stop\\n\\t\\t\\t\\t\\t\\t\\t\\t\\t\\t\\t\\tVia Ranchi\\n\\t\\t\\t\\t\\t\\t\\t\\t\\t\\t\\t\\t               114\n",
              "1-stop\\n\\t\\t\\t\\t\\t\\t\\t\\t\\t\\t\\t\\tVia Raipur\\n\\t\\t\\t\\t\\t\\t\\t\\t\\t\\t\\t\\t               102\n",
              "1-stop\\n\\t\\t\\t\\t\\t\\t\\t\\t\\t\\t\\t\\tVia Chennai\\n\\t\\t\\t\\t\\t\\t\\t\\t\\t\\t\\t\\t               77\n",
              "1-stop\\n\\t\\t\\t\\t\\t\\t\\t\\t\\t\\t\\t\\tVia Guwahati\\n\\t\\t\\t\\t\\t\\t\\t\\t\\t\\t\\t\\t              55\n",
              "1-stop\\n\\t\\t\\t\\t\\t\\t\\t\\t\\t\\t\\t\\tVia Mysore\\n\\t\\t\\t\\t\\t\\t\\t\\t\\t\\t\\t\\t                45\n",
              "1-stop\\n\\t\\t\\t\\t\\t\\t\\t\\t\\t\\t\\t\\tVia Mangalore\\n\\t\\t\\t\\t\\t\\t\\t\\t\\t\\t\\t\\t             39\n",
              "1-stop\\n\\t\\t\\t\\t\\t\\t\\t\\t\\t\\t\\t\\tVia Mumbai\\n\\t\\t\\t\\t\\t\\t\\t\\t\\t\\t\\t\\t                31\n",
              "1-stop\\n\\t\\t\\t\\t\\t\\t\\t\\t\\t\\t\\t\\tVia Kolkata\\n\\t\\t\\t\\t\\t\\t\\t\\t\\t\\t\\t\\t               28\n",
              "1-stop\\n\\t\\t\\t\\t\\t\\t\\t\\t\\t\\t\\t\\tVia VTZ\\n\\t\\t\\t\\t\\t\\t\\t\\t\\t\\t\\t\\t                   27\n",
              "1-stop\\n\\t\\t\\t\\t\\t\\t\\t\\t\\t\\t\\t\\tVia Nagpur\\n\\t\\t\\t\\t\\t\\t\\t\\t\\t\\t\\t\\t                25\n",
              "1-stop\\n\\t\\t\\t\\t\\t\\t\\t\\t\\t\\t\\t\\tVia NDC\\n\\t\\t\\t\\t\\t\\t\\t\\t\\t\\t\\t\\t                   22\n",
              "1-stop\\n\\t\\t\\t\\t\\t\\t\\t\\t\\t\\t\\t\\tVia RPR\\n\\t\\t\\t\\t\\t\\t\\t\\t\\t\\t\\t\\t                   22\n",
              "1-stop\\n\\t\\t\\t\\t\\t\\t\\t\\t\\t\\t\\t\\tVia GOP\\n\\t\\t\\t\\t\\t\\t\\t\\t\\t\\t\\t\\t                   16\n",
              "1-stop\\n\\t\\t\\t\\t\\t\\t\\t\\t\\t\\t\\t\\tVia Surat\\n\\t\\t\\t\\t\\t\\t\\t\\t\\t\\t\\t\\t                 14\n",
              "1-stop\\n\\t\\t\\t\\t\\t\\t\\t\\t\\t\\t\\t\\tVia Lucknow\\n\\t\\t\\t\\t\\t\\t\\t\\t\\t\\t\\t\\t               13\n",
              "1-stop\\n\\t\\t\\t\\t\\t\\t\\t\\t\\t\\t\\t\\tVia NAG\\n\\t\\t\\t\\t\\t\\t\\t\\t\\t\\t\\t\\t                    9\n",
              "1-stop\\n\\t\\t\\t\\t\\t\\t\\t\\t\\t\\t\\t\\tVia Vishakhapatnam\\n\\t\\t\\t\\t\\t\\t\\t\\t\\t\\t\\t\\t         8\n",
              "1-stop\\n\\t\\t\\t\\t\\t\\t\\t\\t\\t\\t\\t\\tVia Kolhapur\\n\\t\\t\\t\\t\\t\\t\\t\\t\\t\\t\\t\\t               5\n",
              "1-stop\\n\\t\\t\\t\\t\\t\\t\\t\\t\\t\\t\\t\\tVia IXR\\n\\t\\t\\t\\t\\t\\t\\t\\t\\t\\t\\t\\t                    4\n",
              "1-stop\\n\\t\\t\\t\\t\\t\\t\\t\\t\\t\\t\\t\\tVia GAY\\n\\t\\t\\t\\t\\t\\t\\t\\t\\t\\t\\t\\t                    3\n",
              "1-stop\\n\\t\\t\\t\\t\\t\\t\\t\\t\\t\\t\\t\\tVia GAU\\n\\t\\t\\t\\t\\t\\t\\t\\t\\t\\t\\t\\t                    3\n",
              "1-stop\\n\\t\\t\\t\\t\\t\\t\\t\\t\\t\\t\\t\\tVia HYD\\n\\t\\t\\t\\t\\t\\t\\t\\t\\t\\t\\t\\t                    1\n",
              "Name: count, dtype: int64"
            ]
          },
          "execution_count": 35,
          "metadata": {},
          "output_type": "execute_result"
        }
      ],
      "source": [
        "df['stops'].value_counts()"
      ]
    },
    {
      "cell_type": "code",
      "execution_count": 36,
      "metadata": {
        "id": "P8x3ZYjLcPrZ"
      },
      "outputs": [],
      "source": [
        "def clean_stop(x):\n",
        "  if(x[0] == '1'):\n",
        "    return x[0]\n",
        "  elif(x[0] == '2'):\n",
        "    return x[0]\n",
        "  else:\n",
        "    return '0'\n",
        "\n",
        "df['stops'] = df['stops'].apply(clean_stop)"
      ]
    },
    {
      "cell_type": "code",
      "execution_count": 37,
      "metadata": {
        "colab": {
          "base_uri": "https://localhost:8080/"
        },
        "id": "COTqKjmndPKs",
        "outputId": "8432db9d-295a-4789-b119-5211fb97ac5c"
      },
      "outputs": [
        {
          "data": {
            "text/plain": [
              "stops\n",
              "1    250927\n",
              "0     36044\n",
              "2     13288\n",
              "Name: count, dtype: int64"
            ]
          },
          "execution_count": 37,
          "metadata": {},
          "output_type": "execute_result"
        }
      ],
      "source": [
        "df['stops'].value_counts()"
      ]
    },
    {
      "cell_type": "code",
      "execution_count": 38,
      "metadata": {
        "colab": {
          "base_uri": "https://localhost:8080/"
        },
        "id": "DHzTnjqxdS6f",
        "outputId": "cc8a487b-3f9a-467e-a1a5-4a3aa8caccbf"
      },
      "outputs": [
        {
          "data": {
            "text/plain": [
              "array(['0', '1', '2'], dtype=object)"
            ]
          },
          "execution_count": 38,
          "metadata": {},
          "output_type": "execute_result"
        }
      ],
      "source": [
        "df['stops'].unique()"
      ]
    },
    {
      "cell_type": "code",
      "execution_count": 39,
      "metadata": {
        "id": "zUbUzRQ6dbUM"
      },
      "outputs": [],
      "source": [
        "df['stops'] = df['stops'].astype(int)"
      ]
    },
    {
      "cell_type": "code",
      "execution_count": 40,
      "metadata": {
        "colab": {
          "base_uri": "https://localhost:8080/",
          "height": 135
        },
        "id": "REY0llARdjwr",
        "outputId": "0d1ee163-ced4-4c3a-afa1-18f2068dd893"
      },
      "outputs": [
        {
          "data": {
            "text/html": [
              "<div>\n",
              "<style scoped>\n",
              "    .dataframe tbody tr th:only-of-type {\n",
              "        vertical-align: middle;\n",
              "    }\n",
              "\n",
              "    .dataframe tbody tr th {\n",
              "        vertical-align: top;\n",
              "    }\n",
              "\n",
              "    .dataframe thead th {\n",
              "        text-align: right;\n",
              "    }\n",
              "</style>\n",
              "<table border=\"1\" class=\"dataframe\">\n",
              "  <thead>\n",
              "    <tr style=\"text-align: right;\">\n",
              "      <th></th>\n",
              "      <th>date</th>\n",
              "      <th>airline</th>\n",
              "      <th>departure_time</th>\n",
              "      <th>source_city</th>\n",
              "      <th>duration</th>\n",
              "      <th>stops</th>\n",
              "      <th>arrival_time</th>\n",
              "      <th>destination_city</th>\n",
              "      <th>price</th>\n",
              "      <th>class</th>\n",
              "      <th>flight_code</th>\n",
              "    </tr>\n",
              "  </thead>\n",
              "  <tbody>\n",
              "    <tr>\n",
              "      <th>0</th>\n",
              "      <td>11-02-2022</td>\n",
              "      <td>SpiceJet</td>\n",
              "      <td>18:55</td>\n",
              "      <td>Delhi</td>\n",
              "      <td>2.17</td>\n",
              "      <td>0</td>\n",
              "      <td>21:05</td>\n",
              "      <td>Mumbai</td>\n",
              "      <td>5,953</td>\n",
              "      <td>economy</td>\n",
              "      <td>SG-8709</td>\n",
              "    </tr>\n",
              "  </tbody>\n",
              "</table>\n",
              "</div>"
            ],
            "text/plain": [
              "         date   airline departure_time source_city  duration  stops  \\\n",
              "0  11-02-2022  SpiceJet          18:55       Delhi      2.17      0   \n",
              "\n",
              "  arrival_time destination_city  price    class flight_code  \n",
              "0        21:05           Mumbai  5,953  economy     SG-8709  "
            ]
          },
          "execution_count": 40,
          "metadata": {},
          "output_type": "execute_result"
        }
      ],
      "source": [
        "df.head(1)"
      ]
    },
    {
      "cell_type": "markdown",
      "metadata": {
        "id": "hxVYY9Fbd-03"
      },
      "source": [
        "<h3>Dimentionality Reduction<h3>"
      ]
    },
    {
      "cell_type": "code",
      "execution_count": 41,
      "metadata": {
        "colab": {
          "base_uri": "https://localhost:8080/"
        },
        "id": "WSxZfHmMdk-i",
        "outputId": "09de9bfd-d2bd-4753-dada-88c9f92f86cf"
      },
      "outputs": [
        {
          "data": {
            "text/plain": [
              "0         18:55\n",
              "1         06:20\n",
              "2         04:25\n",
              "3         10:20\n",
              "4         08:50\n",
              "          ...  \n",
              "300256    09:45\n",
              "300257    12:30\n",
              "300258    07:05\n",
              "300259    07:00\n",
              "300260    09:45\n",
              "Name: departure_time, Length: 300259, dtype: object"
            ]
          },
          "execution_count": 41,
          "metadata": {},
          "output_type": "execute_result"
        }
      ],
      "source": [
        "# departure_time\n",
        "df['departure_time']"
      ]
    },
    {
      "cell_type": "code",
      "execution_count": 42,
      "metadata": {
        "colab": {
          "base_uri": "https://localhost:8080/",
          "height": 206
        },
        "id": "F38wFx26ePB7",
        "outputId": "f6684a8e-afc2-4e75-ae38-4c68efdfc81a"
      },
      "outputs": [
        {
          "data": {
            "text/html": [
              "<div>\n",
              "<style scoped>\n",
              "    .dataframe tbody tr th:only-of-type {\n",
              "        vertical-align: middle;\n",
              "    }\n",
              "\n",
              "    .dataframe tbody tr th {\n",
              "        vertical-align: top;\n",
              "    }\n",
              "\n",
              "    .dataframe thead th {\n",
              "        text-align: right;\n",
              "    }\n",
              "</style>\n",
              "<table border=\"1\" class=\"dataframe\">\n",
              "  <thead>\n",
              "    <tr style=\"text-align: right;\">\n",
              "      <th></th>\n",
              "      <th>hours</th>\n",
              "      <th>minutes</th>\n",
              "    </tr>\n",
              "  </thead>\n",
              "  <tbody>\n",
              "    <tr>\n",
              "      <th>0</th>\n",
              "      <td>18</td>\n",
              "      <td>55</td>\n",
              "    </tr>\n",
              "    <tr>\n",
              "      <th>1</th>\n",
              "      <td>06</td>\n",
              "      <td>20</td>\n",
              "    </tr>\n",
              "    <tr>\n",
              "      <th>2</th>\n",
              "      <td>04</td>\n",
              "      <td>25</td>\n",
              "    </tr>\n",
              "    <tr>\n",
              "      <th>3</th>\n",
              "      <td>10</td>\n",
              "      <td>20</td>\n",
              "    </tr>\n",
              "    <tr>\n",
              "      <th>4</th>\n",
              "      <td>08</td>\n",
              "      <td>50</td>\n",
              "    </tr>\n",
              "  </tbody>\n",
              "</table>\n",
              "</div>"
            ],
            "text/plain": [
              "  hours minutes\n",
              "0    18      55\n",
              "1    06      20\n",
              "2    04      25\n",
              "3    10      20\n",
              "4    08      50"
            ]
          },
          "execution_count": 42,
          "metadata": {},
          "output_type": "execute_result"
        }
      ],
      "source": [
        "temp = pd.DataFrame()\n",
        "temp[['hours', 'minutes']] = df['departure_time'].str.split(':', expand=True)\n",
        "temp.head()"
      ]
    },
    {
      "cell_type": "code",
      "execution_count": 43,
      "metadata": {
        "colab": {
          "base_uri": "https://localhost:8080/"
        },
        "id": "8P2Iu9K2eoAG",
        "outputId": "6bb0f550-cc3c-41e5-ba28-57793fd0541c"
      },
      "outputs": [
        {
          "data": {
            "text/plain": [
              "count    300259.000000\n",
              "mean         12.983518\n",
              "std           5.363199\n",
              "min           0.000000\n",
              "25%           8.000000\n",
              "50%          12.000000\n",
              "75%          18.000000\n",
              "max          23.000000\n",
              "Name: hours, dtype: float64"
            ]
          },
          "execution_count": 43,
          "metadata": {},
          "output_type": "execute_result"
        }
      ],
      "source": [
        "temp['hours'] = temp['hours'].astype(int)\n",
        "temp['hours'].describe()"
      ]
    },
    {
      "cell_type": "code",
      "execution_count": 44,
      "metadata": {
        "colab": {
          "base_uri": "https://localhost:8080/",
          "height": 206
        },
        "id": "lYsav_vmfSB8",
        "outputId": "8fa4d2e1-45f0-48f2-ff67-30a3c496053d"
      },
      "outputs": [
        {
          "data": {
            "text/html": [
              "<div>\n",
              "<style scoped>\n",
              "    .dataframe tbody tr th:only-of-type {\n",
              "        vertical-align: middle;\n",
              "    }\n",
              "\n",
              "    .dataframe tbody tr th {\n",
              "        vertical-align: top;\n",
              "    }\n",
              "\n",
              "    .dataframe thead th {\n",
              "        text-align: right;\n",
              "    }\n",
              "</style>\n",
              "<table border=\"1\" class=\"dataframe\">\n",
              "  <thead>\n",
              "    <tr style=\"text-align: right;\">\n",
              "      <th></th>\n",
              "      <th>hours</th>\n",
              "      <th>minutes</th>\n",
              "      <th>dep_time</th>\n",
              "    </tr>\n",
              "  </thead>\n",
              "  <tbody>\n",
              "    <tr>\n",
              "      <th>0</th>\n",
              "      <td>18</td>\n",
              "      <td>55</td>\n",
              "      <td>Evening</td>\n",
              "    </tr>\n",
              "    <tr>\n",
              "      <th>1</th>\n",
              "      <td>6</td>\n",
              "      <td>20</td>\n",
              "      <td>Early Morning</td>\n",
              "    </tr>\n",
              "    <tr>\n",
              "      <th>2</th>\n",
              "      <td>4</td>\n",
              "      <td>25</td>\n",
              "      <td>Early Morning</td>\n",
              "    </tr>\n",
              "    <tr>\n",
              "      <th>3</th>\n",
              "      <td>10</td>\n",
              "      <td>20</td>\n",
              "      <td>Morning</td>\n",
              "    </tr>\n",
              "    <tr>\n",
              "      <th>4</th>\n",
              "      <td>8</td>\n",
              "      <td>50</td>\n",
              "      <td>Morning</td>\n",
              "    </tr>\n",
              "  </tbody>\n",
              "</table>\n",
              "</div>"
            ],
            "text/plain": [
              "   hours minutes       dep_time\n",
              "0     18      55        Evening\n",
              "1      6      20  Early Morning\n",
              "2      4      25  Early Morning\n",
              "3     10      20        Morning\n",
              "4      8      50        Morning"
            ]
          },
          "execution_count": 44,
          "metadata": {},
          "output_type": "execute_result"
        }
      ],
      "source": [
        "temp['dep_time'] = pd.cut(x=temp['hours'], bins=6, labels=['Late Night', 'Early Morning', 'Morning', 'Afternoon', 'Evening', 'Night'])\n",
        "temp.head()"
      ]
    },
    {
      "cell_type": "code",
      "execution_count": 45,
      "metadata": {
        "colab": {
          "base_uri": "https://localhost:8080/",
          "height": 399
        },
        "id": "c2iAfsYHhFFU",
        "outputId": "91e5eee7-55f4-48f3-f3ca-00b3e60bbf76"
      },
      "outputs": [
        {
          "data": {
            "text/html": [
              "<div>\n",
              "<style scoped>\n",
              "    .dataframe tbody tr th:only-of-type {\n",
              "        vertical-align: middle;\n",
              "    }\n",
              "\n",
              "    .dataframe tbody tr th {\n",
              "        vertical-align: top;\n",
              "    }\n",
              "\n",
              "    .dataframe thead th {\n",
              "        text-align: right;\n",
              "    }\n",
              "</style>\n",
              "<table border=\"1\" class=\"dataframe\">\n",
              "  <thead>\n",
              "    <tr style=\"text-align: right;\">\n",
              "      <th></th>\n",
              "      <th>date</th>\n",
              "      <th>airline</th>\n",
              "      <th>departure_time</th>\n",
              "      <th>source_city</th>\n",
              "      <th>duration</th>\n",
              "      <th>stops</th>\n",
              "      <th>arrival_time</th>\n",
              "      <th>destination_city</th>\n",
              "      <th>price</th>\n",
              "      <th>class</th>\n",
              "      <th>flight_code</th>\n",
              "    </tr>\n",
              "  </thead>\n",
              "  <tbody>\n",
              "    <tr>\n",
              "      <th>0</th>\n",
              "      <td>11-02-2022</td>\n",
              "      <td>SpiceJet</td>\n",
              "      <td>Evening</td>\n",
              "      <td>Delhi</td>\n",
              "      <td>2.17</td>\n",
              "      <td>0</td>\n",
              "      <td>21:05</td>\n",
              "      <td>Mumbai</td>\n",
              "      <td>5,953</td>\n",
              "      <td>economy</td>\n",
              "      <td>SG-8709</td>\n",
              "    </tr>\n",
              "    <tr>\n",
              "      <th>1</th>\n",
              "      <td>11-02-2022</td>\n",
              "      <td>SpiceJet</td>\n",
              "      <td>Early Morning</td>\n",
              "      <td>Delhi</td>\n",
              "      <td>2.33</td>\n",
              "      <td>0</td>\n",
              "      <td>08:40</td>\n",
              "      <td>Mumbai</td>\n",
              "      <td>5,953</td>\n",
              "      <td>economy</td>\n",
              "      <td>SG-8157</td>\n",
              "    </tr>\n",
              "    <tr>\n",
              "      <th>2</th>\n",
              "      <td>11-02-2022</td>\n",
              "      <td>AirAsia</td>\n",
              "      <td>Early Morning</td>\n",
              "      <td>Delhi</td>\n",
              "      <td>2.17</td>\n",
              "      <td>0</td>\n",
              "      <td>06:35</td>\n",
              "      <td>Mumbai</td>\n",
              "      <td>5,956</td>\n",
              "      <td>economy</td>\n",
              "      <td>I5-764</td>\n",
              "    </tr>\n",
              "    <tr>\n",
              "      <th>3</th>\n",
              "      <td>11-02-2022</td>\n",
              "      <td>Vistara</td>\n",
              "      <td>Morning</td>\n",
              "      <td>Delhi</td>\n",
              "      <td>2.25</td>\n",
              "      <td>0</td>\n",
              "      <td>12:35</td>\n",
              "      <td>Mumbai</td>\n",
              "      <td>5,955</td>\n",
              "      <td>economy</td>\n",
              "      <td>UK-995</td>\n",
              "    </tr>\n",
              "    <tr>\n",
              "      <th>4</th>\n",
              "      <td>11-02-2022</td>\n",
              "      <td>Vistara</td>\n",
              "      <td>Morning</td>\n",
              "      <td>Delhi</td>\n",
              "      <td>2.33</td>\n",
              "      <td>0</td>\n",
              "      <td>11:10</td>\n",
              "      <td>Mumbai</td>\n",
              "      <td>5,955</td>\n",
              "      <td>economy</td>\n",
              "      <td>UK-963</td>\n",
              "    </tr>\n",
              "  </tbody>\n",
              "</table>\n",
              "</div>"
            ],
            "text/plain": [
              "         date   airline departure_time source_city  duration  stops  \\\n",
              "0  11-02-2022  SpiceJet        Evening       Delhi      2.17      0   \n",
              "1  11-02-2022  SpiceJet  Early Morning       Delhi      2.33      0   \n",
              "2  11-02-2022   AirAsia  Early Morning       Delhi      2.17      0   \n",
              "3  11-02-2022   Vistara        Morning       Delhi      2.25      0   \n",
              "4  11-02-2022   Vistara        Morning       Delhi      2.33      0   \n",
              "\n",
              "  arrival_time destination_city  price    class flight_code  \n",
              "0        21:05           Mumbai  5,953  economy     SG-8709  \n",
              "1        08:40           Mumbai  5,953  economy     SG-8157  \n",
              "2        06:35           Mumbai  5,956  economy      I5-764  \n",
              "3        12:35           Mumbai  5,955  economy      UK-995  \n",
              "4        11:10           Mumbai  5,955  economy      UK-963  "
            ]
          },
          "execution_count": 45,
          "metadata": {},
          "output_type": "execute_result"
        }
      ],
      "source": [
        "df['departure_time'] = temp['dep_time']\n",
        "df.head()"
      ]
    },
    {
      "cell_type": "code",
      "execution_count": 46,
      "metadata": {
        "colab": {
          "base_uri": "https://localhost:8080/",
          "height": 206
        },
        "id": "b0yrTVgbjM8F",
        "outputId": "e4bb1012-c1c6-4930-81e9-1af4fa5f1718"
      },
      "outputs": [
        {
          "data": {
            "text/html": [
              "<div>\n",
              "<style scoped>\n",
              "    .dataframe tbody tr th:only-of-type {\n",
              "        vertical-align: middle;\n",
              "    }\n",
              "\n",
              "    .dataframe tbody tr th {\n",
              "        vertical-align: top;\n",
              "    }\n",
              "\n",
              "    .dataframe thead th {\n",
              "        text-align: right;\n",
              "    }\n",
              "</style>\n",
              "<table border=\"1\" class=\"dataframe\">\n",
              "  <thead>\n",
              "    <tr style=\"text-align: right;\">\n",
              "      <th></th>\n",
              "      <th>hours</th>\n",
              "      <th>minutes</th>\n",
              "    </tr>\n",
              "  </thead>\n",
              "  <tbody>\n",
              "    <tr>\n",
              "      <th>0</th>\n",
              "      <td>21</td>\n",
              "      <td>05</td>\n",
              "    </tr>\n",
              "    <tr>\n",
              "      <th>1</th>\n",
              "      <td>08</td>\n",
              "      <td>40</td>\n",
              "    </tr>\n",
              "    <tr>\n",
              "      <th>2</th>\n",
              "      <td>06</td>\n",
              "      <td>35</td>\n",
              "    </tr>\n",
              "    <tr>\n",
              "      <th>3</th>\n",
              "      <td>12</td>\n",
              "      <td>35</td>\n",
              "    </tr>\n",
              "    <tr>\n",
              "      <th>4</th>\n",
              "      <td>11</td>\n",
              "      <td>10</td>\n",
              "    </tr>\n",
              "  </tbody>\n",
              "</table>\n",
              "</div>"
            ],
            "text/plain": [
              "  hours minutes\n",
              "0    21      05\n",
              "1    08      40\n",
              "2    06      35\n",
              "3    12      35\n",
              "4    11      10"
            ]
          },
          "execution_count": 46,
          "metadata": {},
          "output_type": "execute_result"
        }
      ],
      "source": [
        "# arrival_time\n",
        "temp = pd.DataFrame()\n",
        "temp[['hours', 'minutes']] = df['arrival_time'].str.split(':', expand=True)\n",
        "temp.head()"
      ]
    },
    {
      "cell_type": "code",
      "execution_count": 47,
      "metadata": {
        "colab": {
          "base_uri": "https://localhost:8080/"
        },
        "id": "wr3WdDC4oc44",
        "outputId": "fdd2b4c2-f57d-478b-b76a-7f7276e7cd73"
      },
      "outputs": [
        {
          "data": {
            "text/plain": [
              "count    300259.000000\n",
              "mean         15.238967\n",
              "std           6.050235\n",
              "min           0.000000\n",
              "25%          10.000000\n",
              "50%          17.000000\n",
              "75%          20.000000\n",
              "max          23.000000\n",
              "Name: hours, dtype: float64"
            ]
          },
          "execution_count": 47,
          "metadata": {},
          "output_type": "execute_result"
        }
      ],
      "source": [
        "temp['hours'] = temp['hours'].astype(int)\n",
        "temp['hours'].describe()"
      ]
    },
    {
      "cell_type": "code",
      "execution_count": 48,
      "metadata": {
        "colab": {
          "base_uri": "https://localhost:8080/",
          "height": 206
        },
        "id": "OzkCYppppbrq",
        "outputId": "de5cbb70-bd74-44d9-f72a-f6259302c86b"
      },
      "outputs": [
        {
          "data": {
            "text/html": [
              "<div>\n",
              "<style scoped>\n",
              "    .dataframe tbody tr th:only-of-type {\n",
              "        vertical-align: middle;\n",
              "    }\n",
              "\n",
              "    .dataframe tbody tr th {\n",
              "        vertical-align: top;\n",
              "    }\n",
              "\n",
              "    .dataframe thead th {\n",
              "        text-align: right;\n",
              "    }\n",
              "</style>\n",
              "<table border=\"1\" class=\"dataframe\">\n",
              "  <thead>\n",
              "    <tr style=\"text-align: right;\">\n",
              "      <th></th>\n",
              "      <th>hours</th>\n",
              "      <th>minutes</th>\n",
              "      <th>arr_time</th>\n",
              "    </tr>\n",
              "  </thead>\n",
              "  <tbody>\n",
              "    <tr>\n",
              "      <th>0</th>\n",
              "      <td>21</td>\n",
              "      <td>05</td>\n",
              "      <td>Night</td>\n",
              "    </tr>\n",
              "    <tr>\n",
              "      <th>1</th>\n",
              "      <td>8</td>\n",
              "      <td>40</td>\n",
              "      <td>Morning</td>\n",
              "    </tr>\n",
              "    <tr>\n",
              "      <th>2</th>\n",
              "      <td>6</td>\n",
              "      <td>35</td>\n",
              "      <td>Early Morning</td>\n",
              "    </tr>\n",
              "    <tr>\n",
              "      <th>3</th>\n",
              "      <td>12</td>\n",
              "      <td>35</td>\n",
              "      <td>Afternoon</td>\n",
              "    </tr>\n",
              "    <tr>\n",
              "      <th>4</th>\n",
              "      <td>11</td>\n",
              "      <td>10</td>\n",
              "      <td>Morning</td>\n",
              "    </tr>\n",
              "  </tbody>\n",
              "</table>\n",
              "</div>"
            ],
            "text/plain": [
              "   hours minutes       arr_time\n",
              "0     21      05          Night\n",
              "1      8      40        Morning\n",
              "2      6      35  Early Morning\n",
              "3     12      35      Afternoon\n",
              "4     11      10        Morning"
            ]
          },
          "execution_count": 48,
          "metadata": {},
          "output_type": "execute_result"
        }
      ],
      "source": [
        "temp['arr_time'] = pd.cut(x=temp['hours'], bins=6, labels=['Late Night', 'Early Morning', 'Morning', 'Afternoon', 'Evening', 'Night'])\n",
        "temp.head()"
      ]
    },
    {
      "cell_type": "code",
      "execution_count": 49,
      "metadata": {
        "colab": {
          "base_uri": "https://localhost:8080/",
          "height": 399
        },
        "id": "ukNzfsY6piOR",
        "outputId": "d0af3951-1c4e-4f3c-84cd-80e907c955a2"
      },
      "outputs": [
        {
          "data": {
            "text/html": [
              "<div>\n",
              "<style scoped>\n",
              "    .dataframe tbody tr th:only-of-type {\n",
              "        vertical-align: middle;\n",
              "    }\n",
              "\n",
              "    .dataframe tbody tr th {\n",
              "        vertical-align: top;\n",
              "    }\n",
              "\n",
              "    .dataframe thead th {\n",
              "        text-align: right;\n",
              "    }\n",
              "</style>\n",
              "<table border=\"1\" class=\"dataframe\">\n",
              "  <thead>\n",
              "    <tr style=\"text-align: right;\">\n",
              "      <th></th>\n",
              "      <th>date</th>\n",
              "      <th>airline</th>\n",
              "      <th>departure_time</th>\n",
              "      <th>source_city</th>\n",
              "      <th>duration</th>\n",
              "      <th>stops</th>\n",
              "      <th>arrival_time</th>\n",
              "      <th>destination_city</th>\n",
              "      <th>price</th>\n",
              "      <th>class</th>\n",
              "      <th>flight_code</th>\n",
              "    </tr>\n",
              "  </thead>\n",
              "  <tbody>\n",
              "    <tr>\n",
              "      <th>0</th>\n",
              "      <td>11-02-2022</td>\n",
              "      <td>SpiceJet</td>\n",
              "      <td>Evening</td>\n",
              "      <td>Delhi</td>\n",
              "      <td>2.17</td>\n",
              "      <td>0</td>\n",
              "      <td>Night</td>\n",
              "      <td>Mumbai</td>\n",
              "      <td>5,953</td>\n",
              "      <td>economy</td>\n",
              "      <td>SG-8709</td>\n",
              "    </tr>\n",
              "    <tr>\n",
              "      <th>1</th>\n",
              "      <td>11-02-2022</td>\n",
              "      <td>SpiceJet</td>\n",
              "      <td>Early Morning</td>\n",
              "      <td>Delhi</td>\n",
              "      <td>2.33</td>\n",
              "      <td>0</td>\n",
              "      <td>Morning</td>\n",
              "      <td>Mumbai</td>\n",
              "      <td>5,953</td>\n",
              "      <td>economy</td>\n",
              "      <td>SG-8157</td>\n",
              "    </tr>\n",
              "    <tr>\n",
              "      <th>2</th>\n",
              "      <td>11-02-2022</td>\n",
              "      <td>AirAsia</td>\n",
              "      <td>Early Morning</td>\n",
              "      <td>Delhi</td>\n",
              "      <td>2.17</td>\n",
              "      <td>0</td>\n",
              "      <td>Early Morning</td>\n",
              "      <td>Mumbai</td>\n",
              "      <td>5,956</td>\n",
              "      <td>economy</td>\n",
              "      <td>I5-764</td>\n",
              "    </tr>\n",
              "    <tr>\n",
              "      <th>3</th>\n",
              "      <td>11-02-2022</td>\n",
              "      <td>Vistara</td>\n",
              "      <td>Morning</td>\n",
              "      <td>Delhi</td>\n",
              "      <td>2.25</td>\n",
              "      <td>0</td>\n",
              "      <td>Afternoon</td>\n",
              "      <td>Mumbai</td>\n",
              "      <td>5,955</td>\n",
              "      <td>economy</td>\n",
              "      <td>UK-995</td>\n",
              "    </tr>\n",
              "    <tr>\n",
              "      <th>4</th>\n",
              "      <td>11-02-2022</td>\n",
              "      <td>Vistara</td>\n",
              "      <td>Morning</td>\n",
              "      <td>Delhi</td>\n",
              "      <td>2.33</td>\n",
              "      <td>0</td>\n",
              "      <td>Morning</td>\n",
              "      <td>Mumbai</td>\n",
              "      <td>5,955</td>\n",
              "      <td>economy</td>\n",
              "      <td>UK-963</td>\n",
              "    </tr>\n",
              "  </tbody>\n",
              "</table>\n",
              "</div>"
            ],
            "text/plain": [
              "         date   airline departure_time source_city  duration  stops  \\\n",
              "0  11-02-2022  SpiceJet        Evening       Delhi      2.17      0   \n",
              "1  11-02-2022  SpiceJet  Early Morning       Delhi      2.33      0   \n",
              "2  11-02-2022   AirAsia  Early Morning       Delhi      2.17      0   \n",
              "3  11-02-2022   Vistara        Morning       Delhi      2.25      0   \n",
              "4  11-02-2022   Vistara        Morning       Delhi      2.33      0   \n",
              "\n",
              "    arrival_time destination_city  price    class flight_code  \n",
              "0          Night           Mumbai  5,953  economy     SG-8709  \n",
              "1        Morning           Mumbai  5,953  economy     SG-8157  \n",
              "2  Early Morning           Mumbai  5,956  economy      I5-764  \n",
              "3      Afternoon           Mumbai  5,955  economy      UK-995  \n",
              "4        Morning           Mumbai  5,955  economy      UK-963  "
            ]
          },
          "execution_count": 49,
          "metadata": {},
          "output_type": "execute_result"
        }
      ],
      "source": [
        "df['arrival_time'] = temp['arr_time']\n",
        "df.head()"
      ]
    },
    {
      "cell_type": "code",
      "execution_count": 50,
      "metadata": {
        "colab": {
          "base_uri": "https://localhost:8080/",
          "height": 135
        },
        "id": "s-aULedyp8LB",
        "outputId": "7235fc13-2076-4439-fd1b-a45e5c6f3477"
      },
      "outputs": [
        {
          "data": {
            "text/html": [
              "<div>\n",
              "<style scoped>\n",
              "    .dataframe tbody tr th:only-of-type {\n",
              "        vertical-align: middle;\n",
              "    }\n",
              "\n",
              "    .dataframe tbody tr th {\n",
              "        vertical-align: top;\n",
              "    }\n",
              "\n",
              "    .dataframe thead th {\n",
              "        text-align: right;\n",
              "    }\n",
              "</style>\n",
              "<table border=\"1\" class=\"dataframe\">\n",
              "  <thead>\n",
              "    <tr style=\"text-align: right;\">\n",
              "      <th></th>\n",
              "      <th>date</th>\n",
              "      <th>airline</th>\n",
              "      <th>departure_time</th>\n",
              "      <th>source_city</th>\n",
              "      <th>duration</th>\n",
              "      <th>stops</th>\n",
              "      <th>arrival_time</th>\n",
              "      <th>destination_city</th>\n",
              "      <th>price</th>\n",
              "      <th>class</th>\n",
              "      <th>flight_code</th>\n",
              "    </tr>\n",
              "  </thead>\n",
              "  <tbody>\n",
              "    <tr>\n",
              "      <th>0</th>\n",
              "      <td>11-02-2022</td>\n",
              "      <td>SpiceJet</td>\n",
              "      <td>Evening</td>\n",
              "      <td>Delhi</td>\n",
              "      <td>2.17</td>\n",
              "      <td>0</td>\n",
              "      <td>Night</td>\n",
              "      <td>Mumbai</td>\n",
              "      <td>5,953</td>\n",
              "      <td>economy</td>\n",
              "      <td>SG-8709</td>\n",
              "    </tr>\n",
              "  </tbody>\n",
              "</table>\n",
              "</div>"
            ],
            "text/plain": [
              "         date   airline departure_time source_city  duration  stops  \\\n",
              "0  11-02-2022  SpiceJet        Evening       Delhi      2.17      0   \n",
              "\n",
              "  arrival_time destination_city  price    class flight_code  \n",
              "0        Night           Mumbai  5,953  economy     SG-8709  "
            ]
          },
          "execution_count": 50,
          "metadata": {},
          "output_type": "execute_result"
        }
      ],
      "source": [
        "df.head(1)"
      ]
    },
    {
      "cell_type": "code",
      "execution_count": 51,
      "metadata": {
        "id": "nVWI1x_v_bJV"
      },
      "outputs": [],
      "source": [
        "df['price'] = df['price'].apply(lambda x : re.sub('[^0-9]', '', x))"
      ]
    },
    {
      "cell_type": "code",
      "execution_count": 52,
      "metadata": {
        "colab": {
          "base_uri": "https://localhost:8080/",
          "height": 135
        },
        "id": "gSApnx2O_bRK",
        "outputId": "b3bf801d-62ee-4b95-9a2a-dc75247740ae"
      },
      "outputs": [
        {
          "data": {
            "text/html": [
              "<div>\n",
              "<style scoped>\n",
              "    .dataframe tbody tr th:only-of-type {\n",
              "        vertical-align: middle;\n",
              "    }\n",
              "\n",
              "    .dataframe tbody tr th {\n",
              "        vertical-align: top;\n",
              "    }\n",
              "\n",
              "    .dataframe thead th {\n",
              "        text-align: right;\n",
              "    }\n",
              "</style>\n",
              "<table border=\"1\" class=\"dataframe\">\n",
              "  <thead>\n",
              "    <tr style=\"text-align: right;\">\n",
              "      <th></th>\n",
              "      <th>date</th>\n",
              "      <th>airline</th>\n",
              "      <th>departure_time</th>\n",
              "      <th>source_city</th>\n",
              "      <th>duration</th>\n",
              "      <th>stops</th>\n",
              "      <th>arrival_time</th>\n",
              "      <th>destination_city</th>\n",
              "      <th>price</th>\n",
              "      <th>class</th>\n",
              "      <th>flight_code</th>\n",
              "    </tr>\n",
              "  </thead>\n",
              "  <tbody>\n",
              "    <tr>\n",
              "      <th>0</th>\n",
              "      <td>11-02-2022</td>\n",
              "      <td>SpiceJet</td>\n",
              "      <td>Evening</td>\n",
              "      <td>Delhi</td>\n",
              "      <td>2.17</td>\n",
              "      <td>0</td>\n",
              "      <td>Night</td>\n",
              "      <td>Mumbai</td>\n",
              "      <td>5953</td>\n",
              "      <td>economy</td>\n",
              "      <td>SG-8709</td>\n",
              "    </tr>\n",
              "  </tbody>\n",
              "</table>\n",
              "</div>"
            ],
            "text/plain": [
              "         date   airline departure_time source_city  duration  stops  \\\n",
              "0  11-02-2022  SpiceJet        Evening       Delhi      2.17      0   \n",
              "\n",
              "  arrival_time destination_city  price    class flight_code  \n",
              "0        Night           Mumbai   5953  economy     SG-8709  "
            ]
          },
          "execution_count": 52,
          "metadata": {},
          "output_type": "execute_result"
        }
      ],
      "source": [
        "df['price'] = df['price'].astype(int)\n",
        "df.head(1)"
      ]
    },
    {
      "cell_type": "markdown",
      "metadata": {
        "id": "zIIXe1wzCvDW"
      },
      "source": [
        "<h3>Feature Eng.<h3>"
      ]
    },
    {
      "cell_type": "code",
      "execution_count": 53,
      "metadata": {
        "colab": {
          "base_uri": "https://localhost:8080/",
          "height": 206
        },
        "id": "JSXHwOZoAZyv",
        "outputId": "99c3153b-567a-4009-8ab4-f0797555ac6a"
      },
      "outputs": [
        {
          "data": {
            "text/html": [
              "<div>\n",
              "<style scoped>\n",
              "    .dataframe tbody tr th:only-of-type {\n",
              "        vertical-align: middle;\n",
              "    }\n",
              "\n",
              "    .dataframe tbody tr th {\n",
              "        vertical-align: top;\n",
              "    }\n",
              "\n",
              "    .dataframe thead th {\n",
              "        text-align: right;\n",
              "    }\n",
              "</style>\n",
              "<table border=\"1\" class=\"dataframe\">\n",
              "  <thead>\n",
              "    <tr style=\"text-align: right;\">\n",
              "      <th></th>\n",
              "      <th>day</th>\n",
              "      <th>month</th>\n",
              "      <th>year</th>\n",
              "    </tr>\n",
              "  </thead>\n",
              "  <tbody>\n",
              "    <tr>\n",
              "      <th>0</th>\n",
              "      <td>11</td>\n",
              "      <td>02</td>\n",
              "      <td>2022</td>\n",
              "    </tr>\n",
              "    <tr>\n",
              "      <th>1</th>\n",
              "      <td>11</td>\n",
              "      <td>02</td>\n",
              "      <td>2022</td>\n",
              "    </tr>\n",
              "    <tr>\n",
              "      <th>2</th>\n",
              "      <td>11</td>\n",
              "      <td>02</td>\n",
              "      <td>2022</td>\n",
              "    </tr>\n",
              "    <tr>\n",
              "      <th>3</th>\n",
              "      <td>11</td>\n",
              "      <td>02</td>\n",
              "      <td>2022</td>\n",
              "    </tr>\n",
              "    <tr>\n",
              "      <th>4</th>\n",
              "      <td>11</td>\n",
              "      <td>02</td>\n",
              "      <td>2022</td>\n",
              "    </tr>\n",
              "  </tbody>\n",
              "</table>\n",
              "</div>"
            ],
            "text/plain": [
              "  day month  year\n",
              "0  11    02  2022\n",
              "1  11    02  2022\n",
              "2  11    02  2022\n",
              "3  11    02  2022\n",
              "4  11    02  2022"
            ]
          },
          "execution_count": 53,
          "metadata": {},
          "output_type": "execute_result"
        }
      ],
      "source": [
        "# 10/02 booking date (Feb.=28 days) if month>2 (day + 18) else (day - 10)\n",
        "# days_left\n",
        "temp = pd.DataFrame()\n",
        "temp[['day', 'month', 'year']] = df['date'].str.split('-', expand=True)\n",
        "temp.head()"
      ]
    },
    {
      "cell_type": "code",
      "execution_count": 54,
      "metadata": {
        "id": "qNQV4qteDRbs"
      },
      "outputs": [],
      "source": [
        "temp['day'] = temp['day'].astype(int)\n",
        "temp['month'] = temp['month'].astype(int)"
      ]
    },
    {
      "cell_type": "code",
      "execution_count": 55,
      "metadata": {
        "id": "roW3dTa8DjXf"
      },
      "outputs": [],
      "source": [
        "temp['days_left'] = np.where(temp['month']>2, temp['day'] + 18, temp['day'] - 10)\n",
        "df['days_left'] = temp['days_left']"
      ]
    },
    {
      "cell_type": "code",
      "execution_count": 56,
      "metadata": {
        "id": "_LxpI0RcEEU0"
      },
      "outputs": [],
      "source": [
        "df.drop('date', axis=1, inplace=True)"
      ]
    },
    {
      "cell_type": "code",
      "execution_count": 57,
      "metadata": {
        "colab": {
          "base_uri": "https://localhost:8080/",
          "height": 226
        },
        "id": "fkA0O5SfEuui",
        "outputId": "f05f503e-9579-43fc-f73e-9b742a3a171a"
      },
      "outputs": [
        {
          "data": {
            "text/html": [
              "<div>\n",
              "<style scoped>\n",
              "    .dataframe tbody tr th:only-of-type {\n",
              "        vertical-align: middle;\n",
              "    }\n",
              "\n",
              "    .dataframe tbody tr th {\n",
              "        vertical-align: top;\n",
              "    }\n",
              "\n",
              "    .dataframe thead th {\n",
              "        text-align: right;\n",
              "    }\n",
              "</style>\n",
              "<table border=\"1\" class=\"dataframe\">\n",
              "  <thead>\n",
              "    <tr style=\"text-align: right;\">\n",
              "      <th></th>\n",
              "      <th>airline</th>\n",
              "      <th>departure_time</th>\n",
              "      <th>source_city</th>\n",
              "      <th>duration</th>\n",
              "      <th>stops</th>\n",
              "      <th>arrival_time</th>\n",
              "      <th>destination_city</th>\n",
              "      <th>price</th>\n",
              "      <th>class</th>\n",
              "      <th>flight_code</th>\n",
              "      <th>days_left</th>\n",
              "    </tr>\n",
              "  </thead>\n",
              "  <tbody>\n",
              "    <tr>\n",
              "      <th>0</th>\n",
              "      <td>SpiceJet</td>\n",
              "      <td>Evening</td>\n",
              "      <td>Delhi</td>\n",
              "      <td>2.17</td>\n",
              "      <td>0</td>\n",
              "      <td>Night</td>\n",
              "      <td>Mumbai</td>\n",
              "      <td>5953</td>\n",
              "      <td>economy</td>\n",
              "      <td>SG-8709</td>\n",
              "      <td>1</td>\n",
              "    </tr>\n",
              "    <tr>\n",
              "      <th>1</th>\n",
              "      <td>SpiceJet</td>\n",
              "      <td>Early Morning</td>\n",
              "      <td>Delhi</td>\n",
              "      <td>2.33</td>\n",
              "      <td>0</td>\n",
              "      <td>Morning</td>\n",
              "      <td>Mumbai</td>\n",
              "      <td>5953</td>\n",
              "      <td>economy</td>\n",
              "      <td>SG-8157</td>\n",
              "      <td>1</td>\n",
              "    </tr>\n",
              "    <tr>\n",
              "      <th>2</th>\n",
              "      <td>AirAsia</td>\n",
              "      <td>Early Morning</td>\n",
              "      <td>Delhi</td>\n",
              "      <td>2.17</td>\n",
              "      <td>0</td>\n",
              "      <td>Early Morning</td>\n",
              "      <td>Mumbai</td>\n",
              "      <td>5956</td>\n",
              "      <td>economy</td>\n",
              "      <td>I5-764</td>\n",
              "      <td>1</td>\n",
              "    </tr>\n",
              "    <tr>\n",
              "      <th>3</th>\n",
              "      <td>Vistara</td>\n",
              "      <td>Morning</td>\n",
              "      <td>Delhi</td>\n",
              "      <td>2.25</td>\n",
              "      <td>0</td>\n",
              "      <td>Afternoon</td>\n",
              "      <td>Mumbai</td>\n",
              "      <td>5955</td>\n",
              "      <td>economy</td>\n",
              "      <td>UK-995</td>\n",
              "      <td>1</td>\n",
              "    </tr>\n",
              "    <tr>\n",
              "      <th>4</th>\n",
              "      <td>Vistara</td>\n",
              "      <td>Morning</td>\n",
              "      <td>Delhi</td>\n",
              "      <td>2.33</td>\n",
              "      <td>0</td>\n",
              "      <td>Morning</td>\n",
              "      <td>Mumbai</td>\n",
              "      <td>5955</td>\n",
              "      <td>economy</td>\n",
              "      <td>UK-963</td>\n",
              "      <td>1</td>\n",
              "    </tr>\n",
              "  </tbody>\n",
              "</table>\n",
              "</div>"
            ],
            "text/plain": [
              "    airline departure_time source_city  duration  stops   arrival_time  \\\n",
              "0  SpiceJet        Evening       Delhi      2.17      0          Night   \n",
              "1  SpiceJet  Early Morning       Delhi      2.33      0        Morning   \n",
              "2   AirAsia  Early Morning       Delhi      2.17      0  Early Morning   \n",
              "3   Vistara        Morning       Delhi      2.25      0      Afternoon   \n",
              "4   Vistara        Morning       Delhi      2.33      0        Morning   \n",
              "\n",
              "  destination_city  price    class flight_code  days_left  \n",
              "0           Mumbai   5953  economy     SG-8709          1  \n",
              "1           Mumbai   5953  economy     SG-8157          1  \n",
              "2           Mumbai   5956  economy      I5-764          1  \n",
              "3           Mumbai   5955  economy      UK-995          1  \n",
              "4           Mumbai   5955  economy      UK-963          1  "
            ]
          },
          "execution_count": 57,
          "metadata": {},
          "output_type": "execute_result"
        }
      ],
      "source": [
        "df.head()"
      ]
    },
    {
      "cell_type": "code",
      "execution_count": 58,
      "metadata": {
        "colab": {
          "base_uri": "https://localhost:8080/",
          "height": 300
        },
        "id": "4udwemRQEv1k",
        "outputId": "3d5bd02e-714d-4c28-a577-847150d8fb75"
      },
      "outputs": [
        {
          "data": {
            "text/html": [
              "<div>\n",
              "<style scoped>\n",
              "    .dataframe tbody tr th:only-of-type {\n",
              "        vertical-align: middle;\n",
              "    }\n",
              "\n",
              "    .dataframe tbody tr th {\n",
              "        vertical-align: top;\n",
              "    }\n",
              "\n",
              "    .dataframe thead th {\n",
              "        text-align: right;\n",
              "    }\n",
              "</style>\n",
              "<table border=\"1\" class=\"dataframe\">\n",
              "  <thead>\n",
              "    <tr style=\"text-align: right;\">\n",
              "      <th></th>\n",
              "      <th>duration</th>\n",
              "      <th>stops</th>\n",
              "      <th>price</th>\n",
              "      <th>days_left</th>\n",
              "    </tr>\n",
              "  </thead>\n",
              "  <tbody>\n",
              "    <tr>\n",
              "      <th>count</th>\n",
              "      <td>300259.000000</td>\n",
              "      <td>300259.000000</td>\n",
              "      <td>300259.000000</td>\n",
              "      <td>300259.000000</td>\n",
              "    </tr>\n",
              "    <tr>\n",
              "      <th>mean</th>\n",
              "      <td>12.219091</td>\n",
              "      <td>0.924212</td>\n",
              "      <td>20883.800386</td>\n",
              "      <td>26.004529</td>\n",
              "    </tr>\n",
              "    <tr>\n",
              "      <th>std</th>\n",
              "      <td>7.200335</td>\n",
              "      <td>0.398189</td>\n",
              "      <td>22695.962230</td>\n",
              "      <td>13.560967</td>\n",
              "    </tr>\n",
              "    <tr>\n",
              "      <th>min</th>\n",
              "      <td>0.830000</td>\n",
              "      <td>0.000000</td>\n",
              "      <td>1105.000000</td>\n",
              "      <td>1.000000</td>\n",
              "    </tr>\n",
              "    <tr>\n",
              "      <th>25%</th>\n",
              "      <td>6.750000</td>\n",
              "      <td>1.000000</td>\n",
              "      <td>4783.000000</td>\n",
              "      <td>15.000000</td>\n",
              "    </tr>\n",
              "    <tr>\n",
              "      <th>50%</th>\n",
              "      <td>11.250000</td>\n",
              "      <td>1.000000</td>\n",
              "      <td>7425.000000</td>\n",
              "      <td>26.000000</td>\n",
              "    </tr>\n",
              "    <tr>\n",
              "      <th>75%</th>\n",
              "      <td>16.170000</td>\n",
              "      <td>1.000000</td>\n",
              "      <td>42521.000000</td>\n",
              "      <td>38.000000</td>\n",
              "    </tr>\n",
              "    <tr>\n",
              "      <th>max</th>\n",
              "      <td>103.000000</td>\n",
              "      <td>2.000000</td>\n",
              "      <td>123071.000000</td>\n",
              "      <td>49.000000</td>\n",
              "    </tr>\n",
              "  </tbody>\n",
              "</table>\n",
              "</div>"
            ],
            "text/plain": [
              "            duration          stops          price      days_left\n",
              "count  300259.000000  300259.000000  300259.000000  300259.000000\n",
              "mean       12.219091       0.924212   20883.800386      26.004529\n",
              "std         7.200335       0.398189   22695.962230      13.560967\n",
              "min         0.830000       0.000000    1105.000000       1.000000\n",
              "25%         6.750000       1.000000    4783.000000      15.000000\n",
              "50%        11.250000       1.000000    7425.000000      26.000000\n",
              "75%        16.170000       1.000000   42521.000000      38.000000\n",
              "max       103.000000       2.000000  123071.000000      49.000000"
            ]
          },
          "execution_count": 58,
          "metadata": {},
          "output_type": "execute_result"
        }
      ],
      "source": [
        "df.describe()"
      ]
    },
    {
      "cell_type": "code",
      "execution_count": 59,
      "metadata": {
        "colab": {
          "base_uri": "https://localhost:8080/",
          "height": 342
        },
        "id": "24Vy5TfGE0NL",
        "outputId": "528f6972-dfb7-4151-e276-037a6f7c4907"
      },
      "outputs": [
        {
          "data": {
            "image/png": "[encoded data removed]",
            "text/plain": [
              "<Figure size 1800x700 with 2 Axes>"
            ]
          },
          "metadata": {},
          "output_type": "display_data"
        }
      ],
      "source": [
        "## checking the price count \n",
        "# class(ec, bu)\n",
        "plt.figure(figsize=(18,7))\n",
        "plt.subplot(1,2,1)\n",
        "sns.histplot(data=df, x='price')\n",
        "plt.subplot(1,2,2)\n",
        "sns.boxplot(data=df, x='price')\n",
        "plt.show()"
      ]
    },
    {
      "cell_type": "code",
      "execution_count": 60,
      "metadata": {
        "colab": {
          "base_uri": "https://localhost:8080/"
        },
        "id": "j7s_Ba_VGS7z",
        "outputId": "21fc9944-73a1-4fd3-b7b1-e6c16b65efc3"
      },
      "outputs": [
        {
          "data": {
            "text/plain": [
              "count    300259.000000\n",
              "mean      20883.800386\n",
              "std       22695.962230\n",
              "min        1105.000000\n",
              "25%        4783.000000\n",
              "50%        7425.000000\n",
              "75%       42521.000000\n",
              "max      123071.000000\n",
              "Name: price, dtype: float64"
            ]
          },
          "execution_count": 60,
          "metadata": {},
          "output_type": "execute_result"
        }
      ],
      "source": [
        "df['price'].describe()"
      ]
    },
    {
      "cell_type": "code",
      "execution_count": 61,
      "metadata": {
        "colab": {
          "base_uri": "https://localhost:8080/",
          "height": 439
        },
        "id": "AZdO0nwmHF2c",
        "outputId": "ecdd208a-04ee-4bbf-de74-cc5aad7d5c4a"
      },
      "outputs": [
        {
          "data": {
            "image/png": "[encoded data removed]",
            "text/plain": [
              "<Figure size 1600x800 with 1 Axes>"
            ]
          },
          "metadata": {},
          "output_type": "display_data"
        }
      ],
      "source": [
        "# Checking the airline price based on the class\n",
        "plt.figure(figsize=(16,8))\n",
        "sns.barplot(data=df, x='airline', y='price', hue='class')\n",
        "plt.title('Airline price based on the class')\n",
        "plt.show()"
      ]
    },
    {
      "cell_type": "markdown",
      "metadata": {
        "id": "CXzr8V-5JiNq"
      },
      "source": [
        "Business flights are only available in two companies:(Vistara, Air India)"
      ]
    },
    {
      "cell_type": "code",
      "execution_count": 62,
      "metadata": {
        "colab": {
          "base_uri": "https://localhost:8080/",
          "height": 81
        },
        "id": "buFV_3XHJLY3",
        "outputId": "8fa68e25-150a-49cd-d185-e59d5492b440"
      },
      "outputs": [
        {
          "data": {
            "text/html": [
              "<div>\n",
              "<style scoped>\n",
              "    .dataframe tbody tr th:only-of-type {\n",
              "        vertical-align: middle;\n",
              "    }\n",
              "\n",
              "    .dataframe tbody tr th {\n",
              "        vertical-align: top;\n",
              "    }\n",
              "\n",
              "    .dataframe thead th {\n",
              "        text-align: right;\n",
              "    }\n",
              "</style>\n",
              "<table border=\"1\" class=\"dataframe\">\n",
              "  <thead>\n",
              "    <tr style=\"text-align: right;\">\n",
              "      <th></th>\n",
              "      <th>days_left</th>\n",
              "      <th>price</th>\n",
              "    </tr>\n",
              "  </thead>\n",
              "  <tbody>\n",
              "    <tr>\n",
              "      <th>0</th>\n",
              "      <td>1</td>\n",
              "      <td>21591.867151</td>\n",
              "    </tr>\n",
              "  </tbody>\n",
              "</table>\n",
              "</div>"
            ],
            "text/plain": [
              "   days_left         price\n",
              "0          1  21591.867151"
            ]
          },
          "execution_count": 62,
          "metadata": {},
          "output_type": "execute_result"
        }
      ],
      "source": [
        "# Days Left\n",
        "temp = df.groupby('days_left', as_index=False)['price'].mean()\n",
        "temp.head(1)"
      ]
    },
    {
      "cell_type": "code",
      "execution_count": 63,
      "metadata": {
        "colab": {
          "base_uri": "https://localhost:8080/",
          "height": 439
        },
        "id": "U0kb2n-AK1xc",
        "outputId": "329817a0-3295-4a6d-a2ed-d26a68c223f4"
      },
      "outputs": [
        {
          "data": {
            "image/png": "[encoded data removed]",
            "text/plain": [
              "<Figure size 1600x800 with 1 Axes>"
            ]
          },
          "metadata": {},
          "output_type": "display_data"
        }
      ],
      "source": [
        "## checking the price based on how many days left for the flight\n",
        "plt.figure(figsize=(16,8))\n",
        "plt.scatter(data=temp, x='days_left', y='price')\n",
        "plt.xlabel('Days Left')\n",
        "plt.ylabel('Price')\n",
        "plt.title('Days Left price')\n",
        "plt.show()"
      ]
    },
    {
      "cell_type": "code",
      "execution_count": 64,
      "metadata": {
        "colab": {
          "base_uri": "https://localhost:8080/",
          "height": 450
        },
        "id": "caBujFZjMObL",
        "outputId": "b108d3c7-2f1f-4493-e018-ebcebf341ad0"
      },
      "outputs": [
        {
          "data": {
            "image/png": "[encoded data removed]",
            "text/plain": [
              "<Figure size 640x480 with 1 Axes>"
            ]
          },
          "metadata": {},
          "output_type": "display_data"
        }
      ],
      "source": [
        "sns.boxplot(x=df['days_left'])\n",
        "plt.show()"
      ]
    },
    {
      "cell_type": "code",
      "execution_count": 65,
      "metadata": {
        "colab": {
          "base_uri": "https://localhost:8080/"
        },
        "id": "B4Ya6u4xNU6K",
        "outputId": "cc6ef12b-4d38-46c8-8ec0-2507a81a6184"
      },
      "outputs": [
        {
          "data": {
            "text/plain": [
              "count    300259.000000\n",
              "mean         26.004529\n",
              "std          13.560967\n",
              "min           1.000000\n",
              "25%          15.000000\n",
              "50%          26.000000\n",
              "75%          38.000000\n",
              "max          49.000000\n",
              "Name: days_left, dtype: float64"
            ]
          },
          "execution_count": 65,
          "metadata": {},
          "output_type": "execute_result"
        }
      ],
      "source": [
        "df['days_left'].describe()"
      ]
    },
    {
      "cell_type": "code",
      "execution_count": 66,
      "metadata": {
        "colab": {
          "base_uri": "https://localhost:8080/",
          "height": 439
        },
        "id": "PSUgkcTBNeB1",
        "outputId": "bd056fa5-4c7f-4503-ca3a-093e18997009"
      },
      "outputs": [
        {
          "data": {
            "image/png": "[encoded data removed]",
            "text/plain": [
              "<Figure size 1600x800 with 1 Axes>"
            ]
          },
          "metadata": {},
          "output_type": "display_data"
        }
      ],
      "source": [
        "# checking the avrage(mean) price based on the flight Duration\n",
        "temp = df.groupby('duration', as_index=False)['price'].mean()\n",
        "plt.figure(figsize=(16,8))\n",
        "plt.scatter(data=temp, x='duration', y='price')\n",
        "plt.xlabel('Duration')\n",
        "plt.ylabel('Price')\n",
        "plt.title('Duration price')\n",
        "plt.show()"
      ]
    },
    {
      "cell_type": "code",
      "execution_count": 67,
      "metadata": {
        "colab": {
          "base_uri": "https://localhost:8080/"
        },
        "id": "g8gklNqvOa4u",
        "outputId": "c9d38e42-ec04-42db-9b09-f054f7ba3fe3"
      },
      "outputs": [
        {
          "name": "stdout",
          "output_type": "stream",
          "text": [
            "duration featuer outlires:\n",
            "airline             4\n",
            "departure_time      4\n",
            "source_city         4\n",
            "duration            4\n",
            "stops               4\n",
            "arrival_time        4\n",
            "destination_city    4\n",
            "price               4\n",
            "class               4\n",
            "flight_code         4\n",
            "days_left           4\n",
            "dtype: int64\n"
          ]
        }
      ],
      "source": [
        "## droping the extream data\n",
        "print('duration featuer outlires:')\n",
        "print(df[df['duration']>60].count())"
      ]
    },
    {
      "cell_type": "code",
      "execution_count": 68,
      "metadata": {
        "colab": {
          "base_uri": "https://localhost:8080/"
        },
        "id": "XPcoAt1vPWtT",
        "outputId": "46f9a268-8142-458e-9ef0-1a3056b5449b"
      },
      "outputs": [
        {
          "data": {
            "text/plain": [
              "(300259, 11)"
            ]
          },
          "execution_count": 68,
          "metadata": {},
          "output_type": "execute_result"
        }
      ],
      "source": [
        "df.shape"
      ]
    },
    {
      "cell_type": "code",
      "execution_count": 69,
      "metadata": {
        "colab": {
          "base_uri": "https://localhost:8080/"
        },
        "id": "Gl8iuFMXOvD7",
        "outputId": "0d6e313d-8472-4f78-cd2b-01a983526bb8"
      },
      "outputs": [
        {
          "data": {
            "text/plain": [
              "(300255, 11)"
            ]
          },
          "execution_count": 69,
          "metadata": {},
          "output_type": "execute_result"
        }
      ],
      "source": [
        "df = df[df['duration']<60]\n",
        "df.shape"
      ]
    },
    {
      "cell_type": "code",
      "execution_count": 70,
      "metadata": {
        "colab": {
          "base_uri": "https://localhost:8080/",
          "height": 439
        },
        "id": "D-hinmaSPfsz",
        "outputId": "d2ef29c1-95c0-4984-fdfa-8bf6b90495fe"
      },
      "outputs": [
        {
          "data": {
            "image/png": "[encoded data removed]",
            "text/plain": [
              "<Figure size 1600x800 with 1 Axes>"
            ]
          },
          "metadata": {},
          "output_type": "display_data"
        }
      ],
      "source": [
        "# checking the price based on duration \n",
        "temp = df.groupby('duration', as_index=False)['price'].mean()\n",
        "plt.figure(figsize=(16,8))\n",
        "plt.scatter(data=temp, x='duration', y='price')\n",
        "plt.xlabel('Duration')\n",
        "plt.ylabel('Price')\n",
        "plt.title('Duration price')\n",
        "plt.show()"
      ]
    },
    {
      "cell_type": "code",
      "execution_count": 71,
      "metadata": {
        "colab": {
          "base_uri": "https://localhost:8080/",
          "height": 439
        },
        "id": "QJue-OprPlAG",
        "outputId": "fd799406-7982-4430-fceb-650ea43a706b"
      },
      "outputs": [
        {
          "data": {
            "image/png": "[encoded data removed]",
            "text/plain": [
              "<Figure size 1600x800 with 1 Axes>"
            ]
          },
          "metadata": {},
          "output_type": "display_data"
        }
      ],
      "source": [
        "# source_city & destination_city\n",
        "plt.figure(figsize=(16,8))\n",
        "sns.barplot(data=df, x='source_city', y='price', hue='destination_city')\n",
        "plt.title('Source City Prices based on the Destination City')\n",
        "plt.show()"
      ]
    },
    {
      "cell_type": "code",
      "execution_count": 72,
      "metadata": {
        "colab": {
          "base_uri": "https://localhost:8080/",
          "height": 439
        },
        "id": "IXLV_YwqQZ39",
        "outputId": "64ad36a2-bda0-467e-87b2-dbb3a489bb09"
      },
      "outputs": [
        {
          "data": {
            "image/png": "[encoded data removed]",
            "text/plain": [
              "<Figure size 1600x800 with 2 Axes>"
            ]
          },
          "metadata": {},
          "output_type": "display_data"
        }
      ],
      "source": [
        "# departure_time & arrival_time\n",
        "plt.figure(figsize=(16,8))\n",
        "plt.subplot(1,2,1)\n",
        "sns.barplot(data=df, y='price', x='departure_time', hue='class').set_title('departure_time')\n",
        "plt.subplot(1,2,2)\n",
        "sns.barplot(data=df, y='price', x='arrival_time').set_title('arrival_time')\n",
        "plt.show()"
      ]
    },
    {
      "cell_type": "code",
      "execution_count": 73,
      "metadata": {
        "colab": {
          "base_uri": "https://localhost:8080/",
          "height": 426
        },
        "id": "8WLYY5iPTsb2",
        "outputId": "75354685-e07b-429c-9e7c-5e27acb0876a"
      },
      "outputs": [
        {
          "data": {
            "image/png": "[encoded data removed]",
            "text/plain": [
              "<Figure size 1600x800 with 1 Axes>"
            ]
          },
          "metadata": {},
          "output_type": "display_data"
        }
      ],
      "source": [
        "# stops\n",
        "plt.figure(figsize=(16,8))\n",
        "sns.barplot(data=df, x='class', y='price', hue='stops')\n",
        "plt.show()"
      ]
    },
    {
      "cell_type": "markdown",
      "metadata": {
        "id": "8M4OYBwDVvbQ"
      },
      "source": [
        "##### more stops = price increase "
      ]
    },
    {
      "cell_type": "code",
      "execution_count": 74,
      "metadata": {
        "colab": {
          "base_uri": "https://localhost:8080/",
          "height": 101
        },
        "id": "YWldYUSNVni7",
        "outputId": "15c693e2-ab2e-4ea1-c726-79479e36ec38"
      },
      "outputs": [
        {
          "data": {
            "text/html": [
              "<div>\n",
              "<style scoped>\n",
              "    .dataframe tbody tr th:only-of-type {\n",
              "        vertical-align: middle;\n",
              "    }\n",
              "\n",
              "    .dataframe tbody tr th {\n",
              "        vertical-align: top;\n",
              "    }\n",
              "\n",
              "    .dataframe thead th {\n",
              "        text-align: right;\n",
              "    }\n",
              "</style>\n",
              "<table border=\"1\" class=\"dataframe\">\n",
              "  <thead>\n",
              "    <tr style=\"text-align: right;\">\n",
              "      <th></th>\n",
              "      <th>airline</th>\n",
              "      <th>departure_time</th>\n",
              "      <th>source_city</th>\n",
              "      <th>duration</th>\n",
              "      <th>stops</th>\n",
              "      <th>arrival_time</th>\n",
              "      <th>destination_city</th>\n",
              "      <th>price</th>\n",
              "      <th>class</th>\n",
              "      <th>flight_code</th>\n",
              "      <th>days_left</th>\n",
              "    </tr>\n",
              "  </thead>\n",
              "  <tbody>\n",
              "    <tr>\n",
              "      <th>0</th>\n",
              "      <td>SpiceJet</td>\n",
              "      <td>Evening</td>\n",
              "      <td>Delhi</td>\n",
              "      <td>2.17</td>\n",
              "      <td>0</td>\n",
              "      <td>Night</td>\n",
              "      <td>Mumbai</td>\n",
              "      <td>5953</td>\n",
              "      <td>economy</td>\n",
              "      <td>SG-8709</td>\n",
              "      <td>1</td>\n",
              "    </tr>\n",
              "  </tbody>\n",
              "</table>\n",
              "</div>"
            ],
            "text/plain": [
              "    airline departure_time source_city  duration  stops arrival_time  \\\n",
              "0  SpiceJet        Evening       Delhi      2.17      0        Night   \n",
              "\n",
              "  destination_city  price    class flight_code  days_left  \n",
              "0           Mumbai   5953  economy     SG-8709          1  "
            ]
          },
          "execution_count": 74,
          "metadata": {},
          "output_type": "execute_result"
        }
      ],
      "source": [
        "df.head(1)"
      ]
    },
    {
      "cell_type": "code",
      "execution_count": 75,
      "metadata": {
        "colab": {
          "base_uri": "https://localhost:8080/"
        },
        "id": "vFcsLwRwWMws",
        "outputId": "7eb7e23f-bcfe-4375-e52c-4322a7faf314"
      },
      "outputs": [
        {
          "data": {
            "text/plain": [
              "array(['economy', 'business'], dtype=object)"
            ]
          },
          "execution_count": 75,
          "metadata": {},
          "output_type": "execute_result"
        }
      ],
      "source": [
        "df['class'].unique()"
      ]
    },
    {
      "cell_type": "code",
      "execution_count": 76,
      "metadata": {
        "colab": {
          "base_uri": "https://localhost:8080/",
          "height": 101
        },
        "id": "0ceN4z4FV-GM",
        "outputId": "10e28107-c112-417c-9e9f-f64ec4f2d470"
      },
      "outputs": [
        {
          "data": {
            "text/html": [
              "<div>\n",
              "<style scoped>\n",
              "    .dataframe tbody tr th:only-of-type {\n",
              "        vertical-align: middle;\n",
              "    }\n",
              "\n",
              "    .dataframe tbody tr th {\n",
              "        vertical-align: top;\n",
              "    }\n",
              "\n",
              "    .dataframe thead th {\n",
              "        text-align: right;\n",
              "    }\n",
              "</style>\n",
              "<table border=\"1\" class=\"dataframe\">\n",
              "  <thead>\n",
              "    <tr style=\"text-align: right;\">\n",
              "      <th></th>\n",
              "      <th>airline</th>\n",
              "      <th>departure_time</th>\n",
              "      <th>source_city</th>\n",
              "      <th>duration</th>\n",
              "      <th>stops</th>\n",
              "      <th>arrival_time</th>\n",
              "      <th>destination_city</th>\n",
              "      <th>price</th>\n",
              "      <th>class</th>\n",
              "      <th>flight_code</th>\n",
              "      <th>days_left</th>\n",
              "    </tr>\n",
              "  </thead>\n",
              "  <tbody>\n",
              "    <tr>\n",
              "      <th>0</th>\n",
              "      <td>SpiceJet</td>\n",
              "      <td>Evening</td>\n",
              "      <td>Delhi</td>\n",
              "      <td>2.17</td>\n",
              "      <td>0</td>\n",
              "      <td>Night</td>\n",
              "      <td>Mumbai</td>\n",
              "      <td>5953</td>\n",
              "      <td>0</td>\n",
              "      <td>SG-8709</td>\n",
              "      <td>1</td>\n",
              "    </tr>\n",
              "  </tbody>\n",
              "</table>\n",
              "</div>"
            ],
            "text/plain": [
              "    airline departure_time source_city  duration  stops arrival_time  \\\n",
              "0  SpiceJet        Evening       Delhi      2.17      0        Night   \n",
              "\n",
              "  destination_city  price  class flight_code  days_left  \n",
              "0           Mumbai   5953      0     SG-8709          1  "
            ]
          },
          "execution_count": 76,
          "metadata": {},
          "output_type": "execute_result"
        }
      ],
      "source": [
        "df['class'].replace({'economy':0, 'business':1}, inplace=True)\n",
        "df.head(1)"
      ]
    },
    {
      "cell_type": "markdown",
      "metadata": {
        "id": "njmhutoWWd8D"
      },
      "source": [
        "<h3>One-Hot-Encoder (<h3>"
      ]
    },
    {
      "cell_type": "code",
      "execution_count": 77,
      "metadata": {
        "colab": {
          "base_uri": "https://localhost:8080/"
        },
        "id": "lndDBgWNYUiK",
        "outputId": "72a465bc-9d21-4f8b-aef3-844f0aeaefd6"
      },
      "outputs": [
        {
          "data": {
            "text/plain": [
              "Index(['airline', 'departure_time', 'source_city', 'duration', 'stops',\n",
              "       'arrival_time', 'destination_city', 'price', 'class', 'flight_code',\n",
              "       'days_left'],\n",
              "      dtype='object')"
            ]
          },
          "execution_count": 77,
          "metadata": {},
          "output_type": "execute_result"
        }
      ],
      "source": [
        "df.columns"
      ]
    },
    {
      "cell_type": "code",
      "execution_count": 78,
      "metadata": {
        "colab": {
          "base_uri": "https://localhost:8080/",
          "height": 147
        },
        "id": "47xFYCdpWV6z",
        "outputId": "14abb7ba-1f16-4075-a952-9b583cf54fc0"
      },
      "outputs": [
        {
          "data": {
            "text/html": [
              "<div>\n",
              "<style scoped>\n",
              "    .dataframe tbody tr th:only-of-type {\n",
              "        vertical-align: middle;\n",
              "    }\n",
              "\n",
              "    .dataframe tbody tr th {\n",
              "        vertical-align: top;\n",
              "    }\n",
              "\n",
              "    .dataframe thead th {\n",
              "        text-align: right;\n",
              "    }\n",
              "</style>\n",
              "<table border=\"1\" class=\"dataframe\">\n",
              "  <thead>\n",
              "    <tr style=\"text-align: right;\">\n",
              "      <th></th>\n",
              "      <th>airline</th>\n",
              "      <th>departure_time</th>\n",
              "      <th>source_city</th>\n",
              "      <th>duration</th>\n",
              "      <th>stops</th>\n",
              "      <th>arrival_time</th>\n",
              "      <th>destination_city</th>\n",
              "      <th>price</th>\n",
              "      <th>class</th>\n",
              "      <th>flight_code</th>\n",
              "      <th>...</th>\n",
              "      <th>departure_time_Early Morning</th>\n",
              "      <th>departure_time_Morning</th>\n",
              "      <th>departure_time_Afternoon</th>\n",
              "      <th>departure_time_Evening</th>\n",
              "      <th>departure_time_Night</th>\n",
              "      <th>arrival_time_Early Morning</th>\n",
              "      <th>arrival_time_Morning</th>\n",
              "      <th>arrival_time_Afternoon</th>\n",
              "      <th>arrival_time_Evening</th>\n",
              "      <th>arrival_time_Night</th>\n",
              "    </tr>\n",
              "  </thead>\n",
              "  <tbody>\n",
              "    <tr>\n",
              "      <th>0</th>\n",
              "      <td>SpiceJet</td>\n",
              "      <td>Evening</td>\n",
              "      <td>Delhi</td>\n",
              "      <td>2.17</td>\n",
              "      <td>0</td>\n",
              "      <td>Night</td>\n",
              "      <td>Mumbai</td>\n",
              "      <td>5953</td>\n",
              "      <td>0</td>\n",
              "      <td>SG-8709</td>\n",
              "      <td>...</td>\n",
              "      <td>False</td>\n",
              "      <td>False</td>\n",
              "      <td>False</td>\n",
              "      <td>True</td>\n",
              "      <td>False</td>\n",
              "      <td>False</td>\n",
              "      <td>False</td>\n",
              "      <td>False</td>\n",
              "      <td>False</td>\n",
              "      <td>True</td>\n",
              "    </tr>\n",
              "  </tbody>\n",
              "</table>\n",
              "<p>1 rows × 38 columns</p>\n",
              "</div>"
            ],
            "text/plain": [
              "    airline departure_time source_city  duration  stops arrival_time  \\\n",
              "0  SpiceJet        Evening       Delhi      2.17      0        Night   \n",
              "\n",
              "  destination_city  price  class flight_code  ...  \\\n",
              "0           Mumbai   5953      0     SG-8709  ...   \n",
              "\n",
              "   departure_time_Early Morning  departure_time_Morning  \\\n",
              "0                         False                   False   \n",
              "\n",
              "   departure_time_Afternoon  departure_time_Evening  departure_time_Night  \\\n",
              "0                     False                    True                 False   \n",
              "\n",
              "   arrival_time_Early Morning  arrival_time_Morning  arrival_time_Afternoon  \\\n",
              "0                       False                 False                   False   \n",
              "\n",
              "   arrival_time_Evening  arrival_time_Night  \n",
              "0                 False                True  \n",
              "\n",
              "[1 rows x 38 columns]"
            ]
          },
          "execution_count": 78,
          "metadata": {},
          "output_type": "execute_result"
        }
      ],
      "source": [
        "dummies_list = ['airline', 'source_city', 'destination_city', 'departure_time', 'arrival_time']\n",
        "dummies = pd.get_dummies(df[dummies_list], drop_first=True)\n",
        "df = pd.concat([df, dummies], axis=1)\n",
        "df.head(1)"
      ]
    },
    {
      "cell_type": "code",
      "execution_count": 79,
      "metadata": {
        "id": "4TEN8-N0ZA5t"
      },
      "outputs": [],
      "source": [
        "# drop (Data Cleaning)\n",
        "df = df.drop(['flight_code', 'airline', 'source_city',\n",
        "              'destination_city', 'departure_time', 'arrival_time'], axis=1)"
      ]
    },
    {
      "cell_type": "code",
      "execution_count": 80,
      "metadata": {
        "colab": {
          "base_uri": "https://localhost:8080/"
        },
        "id": "YbfViGDCZujW",
        "outputId": "fc83c4b2-485e-4041-ffdf-b102627b97a5"
      },
      "outputs": [
        {
          "data": {
            "text/plain": [
              "(300255, 32)"
            ]
          },
          "execution_count": 80,
          "metadata": {},
          "output_type": "execute_result"
        }
      ],
      "source": [
        "df.shape"
      ]
    },
    {
      "cell_type": "markdown",
      "metadata": {
        "id": "13hXBiO5Z2e7"
      },
      "source": [
        "<h3>train/test split<h3>"
      ]
    },
    {
      "cell_type": "code",
      "execution_count": 81,
      "metadata": {
        "id": "QLwko9ffZw79"
      },
      "outputs": [],
      "source": [
        "x = df.drop('price', axis=1)\n",
        "y = df['price']"
      ]
    },
    {
      "cell_type": "code",
      "execution_count": 82,
      "metadata": {
        "colab": {
          "base_uri": "https://localhost:8080/"
        },
        "id": "ZriidrihaRGn",
        "outputId": "17b03287-0ea5-4c33-8cca-6d9aae478814"
      },
      "outputs": [
        {
          "data": {
            "text/plain": [
              "((300255, 32), (300255, 31), (300255,))"
            ]
          },
          "execution_count": 82,
          "metadata": {},
          "output_type": "execute_result"
        }
      ],
      "source": [
        "df.shape, x.shape, y.shape"
      ]
    },
    {
      "cell_type": "code",
      "execution_count": 83,
      "metadata": {
        "id": "8CMyoRGNafOe"
      },
      "outputs": [],
      "source": [
        "from sklearn.model_selection import train_test_split\n",
        "X_train, X_test, y_train, y_test = train_test_split(x, y, test_size=0.2, random_state=13, shuffle=True)"
      ]
    },
    {
      "cell_type": "code",
      "execution_count": 84,
      "metadata": {
        "colab": {
          "base_uri": "https://localhost:8080/"
        },
        "id": "DOoJlm1ab_7_",
        "outputId": "23615d07-8358-42be-dcc8-cb4b0af25818"
      },
      "outputs": [
        {
          "data": {
            "text/plain": [
              "((240204, 31), (60051, 31), (240204,), (60051,))"
            ]
          },
          "execution_count": 84,
          "metadata": {},
          "output_type": "execute_result"
        }
      ],
      "source": [
        "X_train.shape, X_test.shape, y_train.shape, y_test.shape"
      ]
    },
    {
      "cell_type": "markdown",
      "metadata": {
        "id": "ldhc8Kx0cPvx"
      },
      "source": [
        "<h3>Linear Regression Model<h3>"
      ]
    },
    {
      "cell_type": "code",
      "execution_count": 85,
      "metadata": {
        "colab": {
          "base_uri": "https://localhost:8080/"
        },
        "id": "KjpcQ2hicGfK",
        "outputId": "33058fbf-352c-475b-c6b8-efc1cca52d74"
      },
      "outputs": [
        {
          "name": "stdout",
          "output_type": "stream",
          "text": [
            "R-Squared:  0.9102153550393364\n",
            "Mean-Absolute Error:  4521.904062265691\n",
            "Mean-Squared-Error:  46348181.576819934\n"
          ]
        }
      ],
      "source": [
        "from sklearn.metrics import r2_score, mean_absolute_error, mean_squared_error\n",
        "from sklearn.linear_model import LinearRegression\n",
        "\n",
        "lr = LinearRegression()\n",
        "lr.fit(X_train, y_train) # Training\n",
        "y_pred_lr = lr.predict(X_test)\n",
        "\n",
        "print('R-Squared: ', r2_score(y_test, y_pred_lr))\n",
        "print('Mean-Absolute Error: ', mean_absolute_error(y_test, y_pred_lr))\n",
        "print('Mean-Squared-Error: ', mean_squared_error(y_test, y_pred_lr))"
      ]
    },
    {
      "cell_type": "markdown",
      "metadata": {
        "id": "i92j5ZCCeYT-"
      },
      "source": [
        "<h3>GradientBoostingRegressor<h3>"
      ]
    },
    {
      "cell_type": "code",
      "execution_count": 86,
      "metadata": {
        "colab": {
          "base_uri": "https://localhost:8080/"
        },
        "id": "GcLTtNLsd7PG",
        "outputId": "447cc4a8-cf30-4f42-de5f-295bfdd39bcc"
      },
      "outputs": [
        {
          "name": "stdout",
          "output_type": "stream",
          "text": [
            "R-Squared:  0.9520828407984271\n",
            "Mean-Absolute Error:  2947.512209481275\n",
            "Mean-Squared-Error:  24735556.912798315\n"
          ]
        }
      ],
      "source": [
        "from sklearn.ensemble import GradientBoostingRegressor\n",
        "\n",
        "gb_regressor = GradientBoostingRegressor()\n",
        "gb_regressor.fit(X_train, y_train) # Training\n",
        "y_pred_gb = gb_regressor.predict(X_test)\n",
        "\n",
        "print('R-Squared: ', r2_score(y_test, y_pred_gb))\n",
        "print('Mean-Absolute Error: ', mean_absolute_error(y_test, y_pred_gb))\n",
        "print('Mean-Squared-Error: ', mean_squared_error(y_test, y_pred_gb))"
      ]
    },
    {
      "cell_type": "markdown",
      "metadata": {
        "id": "T5Z4eF20fbfT"
      },
      "source": [
        "<h3>DecisionTreeRegressor<h3>"
      ]
    },
    {
      "cell_type": "code",
      "execution_count": 87,
      "metadata": {
        "colab": {
          "base_uri": "https://localhost:8080/"
        },
        "id": "dVVPpbPCe2FZ",
        "outputId": "53a04104-627e-49c1-b2d0-692e1bec61c5"
      },
      "outputs": [
        {
          "name": "stdout",
          "output_type": "stream",
          "text": [
            "R-Squared:  0.9766645317620101\n",
            "Mean-Absolute Error:  1147.5092088391534\n",
            "Mean-Squared-Error:  12046119.016768616\n"
          ]
        }
      ],
      "source": [
        "from sklearn.tree import DecisionTreeRegressor\n",
        "\n",
        "dt_regressor = DecisionTreeRegressor()\n",
        "dt_regressor.fit(X_train, y_train) # Training\n",
        "y_pred_dt = dt_regressor.predict(X_test)\n",
        "\n",
        "print('R-Squared: ', r2_score(y_test, y_pred_dt))\n",
        "print('Mean-Absolute Error: ', mean_absolute_error(y_test, y_pred_dt))\n",
        "print('Mean-Squared-Error: ', mean_squared_error(y_test, y_pred_dt))"
      ]
    },
    {
      "cell_type": "markdown",
      "metadata": {
        "id": "z-Vz0S8Uf6b-"
      },
      "source": [
        "<h3>RandomForestRegressor<h3>"
      ]
    },
    {
      "cell_type": "code",
      "execution_count": 88,
      "metadata": {
        "colab": {
          "base_uri": "https://localhost:8080/"
        },
        "id": "E6SsZLbjfyce",
        "outputId": "be007852-19d2-4bfc-81fb-f51de1df2f5f"
      },
      "outputs": [
        {
          "name": "stdout",
          "output_type": "stream",
          "text": [
            "R-Squared:  0.9855249991641422\n",
            "Mean-Absolute Error:  1067.570731187185\n",
            "Mean-Squared-Error:  7472212.730349238\n"
          ]
        }
      ],
      "source": [
        "from sklearn.ensemble import RandomForestRegressor\n",
        "\n",
        "rf_regressor = RandomForestRegressor()\n",
        "rf_regressor.fit(X_train, y_train) # Training\n",
        "y_pred_rf = rf_regressor.predict(X_test)\n",
        "\n",
        "print('R-Squared: ', r2_score(y_test, y_pred_rf))\n",
        "print('Mean-Absolute Error: ', mean_absolute_error(y_test, y_pred_rf))\n",
        "print('Mean-Squared-Error: ', mean_squared_error(y_test, y_pred_rf))"
      ]
    },
    {
      "cell_type": "markdown",
      "metadata": {
        "id": "8oUQAavxhxms"
      },
      "source": [
        "<h3>ExtraTreeRegressor<h3>"
      ]
    },
    {
      "cell_type": "code",
      "execution_count": 89,
      "metadata": {
        "colab": {
          "base_uri": "https://localhost:8080/"
        },
        "id": "U16PDfJegT0F",
        "outputId": "f895869f-c060-4852-8b0d-73022495fda4"
      },
      "outputs": [
        {
          "name": "stdout",
          "output_type": "stream",
          "text": [
            "R-Squared:  0.9745960807768238\n",
            "Mean-Absolute Error:  1314.5722136184243\n",
            "Mean-Squared-Error:  13113884.46693181\n"
          ]
        }
      ],
      "source": [
        "from sklearn.tree import ExtraTreeRegressor\n",
        "\n",
        "et_regressor = ExtraTreeRegressor()\n",
        "et_regressor.fit(X_train, y_train) # Training\n",
        "y_pred_et = et_regressor.predict(X_test)\n",
        "\n",
        "print('R-Squared: ', r2_score(y_test, y_pred_et))\n",
        "print('Mean-Absolute Error: ', mean_absolute_error(y_test, y_pred_et))\n",
        "print('Mean-Squared-Error: ', mean_squared_error(y_test, y_pred_et))"
      ]
    },
    {
      "cell_type": "markdown",
      "metadata": {
        "id": "V_uql-_hiriR"
      },
      "source": [
        "<h3>Svae Model<h3>"
      ]
    },
    {
      "cell_type": "code",
      "execution_count": null,
      "metadata": {
        "id": "4hrihRIgl1YR"
      },
      "outputs": [],
      "source": [
        "import pickle\n",
        "pickle.dump(rf_regressor, open('model.pkl', 'wb'))"
      ]
    },
    {
      "cell_type": "markdown",
      "metadata": {
        "id": "kkhSrWmriyBz"
      },
      "source": [
        "<h3>Load Model<h3>"
      ]
    },
    {
      "cell_type": "code",
      "execution_count": null,
      "metadata": {
        "id": "ALC-NsZ2i0w5"
      },
      "outputs": [],
      "source": [
        "loaded_model = pickle.load(open('model.pkl', 'rb'))"
      ]
    },
    {
      "cell_type": "code",
      "execution_count": null,
      "metadata": {
        "colab": {
          "base_uri": "https://localhost:8080/"
        },
        "id": "JyLzaB9rnAMm",
        "outputId": "3be7b7c5-6769-4b1c-c80f-61215922d503"
      },
      "outputs": [
        {
          "data": {
            "text/plain": [
              "Index(['duration', 'stops', 'class', 'days_left', 'airline_AirAsia',\n",
              "       'airline_GO FIRST', 'airline_Indigo', 'airline_SpiceJet',\n",
              "       'airline_StarAir', 'airline_Trujet', 'airline_Vistara',\n",
              "       'source_city_Chennai', 'source_city_Delhi', 'source_city_Hyderabad',\n",
              "       'source_city_Kolkata', 'source_city_Mumbai', 'destination_city_Chennai',\n",
              "       'destination_city_Delhi', 'destination_city_Hyderabad',\n",
              "       'destination_city_Kolkata', 'destination_city_Mumbai',\n",
              "       'departure_time_Early Morning', 'departure_time_Morning',\n",
              "       'departure_time_Afternoon', 'departure_time_Evening',\n",
              "       'departure_time_Night', 'arrival_time_Early Morning',\n",
              "       'arrival_time_Morning', 'arrival_time_Afternoon',\n",
              "       'arrival_time_Evening', 'arrival_time_Night'],\n",
              "      dtype='object')"
            ]
          },
          "execution_count": 93,
          "metadata": {},
          "output_type": "execute_result"
        }
      ],
      "source": [
        "X_train.columns"
      ]
    },
    {
      "cell_type": "code",
      "execution_count": null,
      "metadata": {
        "colab": {
          "base_uri": "https://localhost:8080/"
        },
        "id": "PkC0QHyMnnWV",
        "outputId": "ea44717e-de1a-4069-e24a-36eb0a35e51e"
      },
      "outputs": [
        {
          "data": {
            "text/plain": [
              "array([[21.67, 1, 1, 20, False, False, False, False, False, False, False,\n",
              "        False, False, False, True, False, False, True, False, False,\n",
              "        False, False, False, False, True, False, False, False, True,\n",
              "        False, False]], dtype=object)"
            ]
          },
          "execution_count": 94,
          "metadata": {},
          "output_type": "execute_result"
        }
      ],
      "source": [
        "X_train[:1].values"
      ]
    },
    {
      "cell_type": "code",
      "execution_count": null,
      "metadata": {
        "colab": {
          "base_uri": "https://localhost:8080/"
        },
        "id": "QRQe51iUnNve",
        "outputId": "23528dd8-5f0f-4753-d293-30f5d4c27171"
      },
      "outputs": [
        {
          "data": {
            "text/plain": [
              "array([[21.67,  1.  ,  1.  , 20.  ,  0.  ,  0.  ,  0.  ,  0.  ,  0.  ,\n",
              "         0.  ,  0.  ,  0.  ,  0.  ,  0.  ,  1.  ,  0.  ,  0.  ,  1.  ,\n",
              "         0.  ,  0.  ,  0.  ,  0.  ,  0.  ,  0.  ,  1.  ,  0.  ,  0.  ,\n",
              "         0.  ,  1.  ,  0.  ,  0.  ]])"
            ]
          },
          "execution_count": 95,
          "metadata": {},
          "output_type": "execute_result"
        }
      ],
      "source": [
        "input_data = [21.67,  1.  ,  1.  , 20.  ,  0.  ,  0.  ,  0.  ,  0.  ,  0.  ,\n",
        "         0.  ,  0.  ,  0.  ,  0.  ,  0.  ,  1.  ,  0.  ,  0.  ,  1.  ,\n",
        "         0.  ,  0.  ,  0.  ,  0.  ,  0.  ,  0.  ,  1.  ,  0.  ,  0.  ,\n",
        "         0.  ,  1.  ,  0.  ,  0. ]\n",
        "\n",
        "input_data_2D = np.asarray([input_data])\n",
        "input_data_2D"
      ]
    },
    {
      "cell_type": "code",
      "execution_count": null,
      "metadata": {
        "colab": {
          "base_uri": "https://localhost:8080/"
        },
        "id": "zcV8kPonn8Rx",
        "outputId": "979db5f1-9264-488b-96c4-7cd2366006b1"
      },
      "outputs": [
        {
          "name": "stderr",
          "output_type": "stream",
          "text": [
            "C:\\Users\\braaa\\AppData\\Roaming\\Python\\Python311\\site-packages\\sklearn\\base.py:465: UserWarning: X does not have valid feature names, but RandomForestRegressor was fitted with feature names\n",
            "  warnings.warn(\n"
          ]
        },
        {
          "data": {
            "text/plain": [
              "57939.0"
            ]
          },
          "execution_count": 96,
          "metadata": {},
          "output_type": "execute_result"
        }
      ],
      "source": [
        "price = loaded_model.predict(input_data_2D)\n",
        "price[0]"
      ]
    },
    {
      "cell_type": "code",
      "execution_count": null,
      "metadata": {},
      "outputs": [],
      "source": []
    }
  ],
  "metadata": {
    "colab": {
      "provenance": []
    },
    "kernelspec": {
      "display_name": "Python 3",
      "name": "python3"
    },
    "language_info": {
      "codemirror_mode": {
        "name": "ipython",
        "version": 3
      },
      "file_extension": ".py",
      "mimetype": "text/x-python",
      "name": "python",
      "nbconvert_exporter": "python",
      "pygments_lexer": "ipython3",
      "version": "3.11.5"
    }
  },
  "nbformat": 4,
  "nbformat_minor": 0
}
